{
 "cells": [
  {
   "cell_type": "code",
   "execution_count": 28,
   "id": "0c41314f-6492-43c4-ac45-de9ca3fb6dc9",
   "metadata": {
    "pycharm": {
     "name": "#%%\n"
    }
   },
   "outputs": [
    {
     "name": "stdout",
     "output_type": "stream",
     "text": [
      "The autoreload extension is already loaded. To reload it, use:\n",
      "  %reload_ext autoreload\n"
     ]
    }
   ],
   "source": [
    "import pandas as pd\n",
    "import pingouin as pg\n",
    "import numpy as np\n",
    "import random\n",
    "import seaborn as sns\n",
    "import matplotlib.pyplot as plt\n",
    "from scipy.stats import pearsonr, kendalltau\n",
    "from read_data import *\n",
    "\n",
    "%load_ext autoreload\n",
    "%autoreload 2"
   ]
  },
  {
   "attachments": {},
   "cell_type": "markdown",
   "id": "98a4cbbe-a2c1-4b2b-935d-787f4b7ba38b",
   "metadata": {
    "pycharm": {
     "name": "#%% md\n"
    }
   },
   "source": [
    "## Main text analyses"
   ]
  },
  {
   "cell_type": "code",
   "execution_count": 29,
   "id": "f306e0f6-ad13-44f4-ab05-fe1cf79afdda",
   "metadata": {
    "pycharm": {
     "name": "#%%\n"
    }
   },
   "outputs": [],
   "source": [
    "allsubjdata = pd.read_csv('data/allsubjdata.csv')"
   ]
  },
  {
   "cell_type": "code",
   "execution_count": 30,
   "id": "c09fa15e",
   "metadata": {},
   "outputs": [
    {
     "data": {
      "text/html": [
       "<div>\n",
       "<style scoped>\n",
       "    .dataframe tbody tr th:only-of-type {\n",
       "        vertical-align: middle;\n",
       "    }\n",
       "\n",
       "    .dataframe tbody tr th {\n",
       "        vertical-align: top;\n",
       "    }\n",
       "\n",
       "    .dataframe thead th {\n",
       "        text-align: right;\n",
       "    }\n",
       "</style>\n",
       "<table border=\"1\" class=\"dataframe\">\n",
       "  <thead>\n",
       "    <tr style=\"text-align: right;\">\n",
       "      <th></th>\n",
       "      <th>scene</th>\n",
       "      <th>expected</th>\n",
       "      <th>initview</th>\n",
       "      <th>finalview</th>\n",
       "      <th>img_2</th>\n",
       "      <th>img_3</th>\n",
       "      <th>img_4</th>\n",
       "      <th>probe_1</th>\n",
       "      <th>probe_2</th>\n",
       "      <th>int_diff</th>\n",
       "      <th>p_exp</th>\n",
       "      <th>response</th>\n",
       "      <th>corr_resp</th>\n",
       "      <th>hit</th>\n",
       "      <th>rt</th>\n",
       "      <th>subject</th>\n",
       "      <th>date</th>\n",
       "      <th>time</th>\n",
       "    </tr>\n",
       "  </thead>\n",
       "  <tbody>\n",
       "    <tr>\n",
       "      <th>0</th>\n",
       "      <td>7.0</td>\n",
       "      <td>1.0</td>\n",
       "      <td>-1.0</td>\n",
       "      <td>90.0</td>\n",
       "      <td>Zoom_Sequences_FixedLight/Scene7_-1.0_0020.png</td>\n",
       "      <td>Zoom_Sequences_FixedLight/Scene7_-1.0_0040.png</td>\n",
       "      <td>Zoom_Sequences_FixedLight/Scene7_-1.0_0050.png</td>\n",
       "      <td>Translate_Views_FixedLight/Scene7_-1.0_0090_-0...</td>\n",
       "      <td>Translate_Views_FixedLight/Scene7_-1.0_0090_-0...</td>\n",
       "      <td>-0.500</td>\n",
       "      <td>0.75</td>\n",
       "      <td>f</td>\n",
       "      <td>j</td>\n",
       "      <td>0.0</td>\n",
       "      <td>361.3</td>\n",
       "      <td>912</td>\n",
       "      <td>20220511</td>\n",
       "      <td>1652269698441</td>\n",
       "    </tr>\n",
       "    <tr>\n",
       "      <th>1</th>\n",
       "      <td>1.0</td>\n",
       "      <td>1.0</td>\n",
       "      <td>-1.0</td>\n",
       "      <td>30.0</td>\n",
       "      <td>Zoom_Sequences_FixedLight/Scene1_-1.0_0015.png</td>\n",
       "      <td>Zoom_Sequences_FixedLight/Scene1_-1.0_0020.png</td>\n",
       "      <td>Zoom_Sequences_FixedLight/Scene1_-1.0_0025.png</td>\n",
       "      <td>Translate_Views_FixedLight/Scene1_-1.0_0030_-0...</td>\n",
       "      <td>Translate_Views_FixedLight/Scene1_-1.0_0030_-0...</td>\n",
       "      <td>-0.550</td>\n",
       "      <td>0.75</td>\n",
       "      <td>f</td>\n",
       "      <td>f</td>\n",
       "      <td>1.0</td>\n",
       "      <td>381.1</td>\n",
       "      <td>912</td>\n",
       "      <td>20220511</td>\n",
       "      <td>1652269698441</td>\n",
       "    </tr>\n",
       "    <tr>\n",
       "      <th>2</th>\n",
       "      <td>10.0</td>\n",
       "      <td>1.0</td>\n",
       "      <td>-1.0</td>\n",
       "      <td>90.0</td>\n",
       "      <td>Zoom_Sequences_FixedLight/Scene10_-1.0_0025.png</td>\n",
       "      <td>Zoom_Sequences_FixedLight/Scene10_-1.0_0035.png</td>\n",
       "      <td>Zoom_Sequences_FixedLight/Scene10_-1.0_0050.png</td>\n",
       "      <td>Translate_Views_FixedLight/Scene10_-1.0_0090_-...</td>\n",
       "      <td>Translate_Views_FixedLight/Scene10_-1.0_0090_0...</td>\n",
       "      <td>0.550</td>\n",
       "      <td>0.75</td>\n",
       "      <td>j</td>\n",
       "      <td>j</td>\n",
       "      <td>1.0</td>\n",
       "      <td>330.1</td>\n",
       "      <td>912</td>\n",
       "      <td>20220511</td>\n",
       "      <td>1652269698441</td>\n",
       "    </tr>\n",
       "    <tr>\n",
       "      <th>3</th>\n",
       "      <td>3.0</td>\n",
       "      <td>1.0</td>\n",
       "      <td>2.0</td>\n",
       "      <td>90.0</td>\n",
       "      <td>Zoom_Sequences_FixedLight/Scene3_2.0_0015.png</td>\n",
       "      <td>Zoom_Sequences_FixedLight/Scene3_2.0_0055.png</td>\n",
       "      <td>Zoom_Sequences_FixedLight/Scene3_2.0_0060.png</td>\n",
       "      <td>Translate_Views_FixedLight/Scene3_2.0_0090_0.0...</td>\n",
       "      <td>Translate_Views_FixedLight/Scene3_2.0_0090_0.5...</td>\n",
       "      <td>0.500</td>\n",
       "      <td>0.75</td>\n",
       "      <td>f</td>\n",
       "      <td>j</td>\n",
       "      <td>0.0</td>\n",
       "      <td>332.1</td>\n",
       "      <td>912</td>\n",
       "      <td>20220511</td>\n",
       "      <td>1652269698441</td>\n",
       "    </tr>\n",
       "    <tr>\n",
       "      <th>4</th>\n",
       "      <td>1.0</td>\n",
       "      <td>1.0</td>\n",
       "      <td>-1.0</td>\n",
       "      <td>30.0</td>\n",
       "      <td>Zoom_Sequences_FixedLight/Scene1_-1.0_0015.png</td>\n",
       "      <td>Zoom_Sequences_FixedLight/Scene1_-1.0_0020.png</td>\n",
       "      <td>Zoom_Sequences_FixedLight/Scene1_-1.0_0025.png</td>\n",
       "      <td>Translate_Views_FixedLight/Scene1_-1.0_0030_0....</td>\n",
       "      <td>Translate_Views_FixedLight/Scene1_-1.0_0030_0....</td>\n",
       "      <td>0.550</td>\n",
       "      <td>0.75</td>\n",
       "      <td>f</td>\n",
       "      <td>j</td>\n",
       "      <td>0.0</td>\n",
       "      <td>603.4</td>\n",
       "      <td>912</td>\n",
       "      <td>20220511</td>\n",
       "      <td>1652269698441</td>\n",
       "    </tr>\n",
       "    <tr>\n",
       "      <th>...</th>\n",
       "      <td>...</td>\n",
       "      <td>...</td>\n",
       "      <td>...</td>\n",
       "      <td>...</td>\n",
       "      <td>...</td>\n",
       "      <td>...</td>\n",
       "      <td>...</td>\n",
       "      <td>...</td>\n",
       "      <td>...</td>\n",
       "      <td>...</td>\n",
       "      <td>...</td>\n",
       "      <td>...</td>\n",
       "      <td>...</td>\n",
       "      <td>...</td>\n",
       "      <td>...</td>\n",
       "      <td>...</td>\n",
       "      <td>...</td>\n",
       "      <td>...</td>\n",
       "    </tr>\n",
       "    <tr>\n",
       "      <th>53179</th>\n",
       "      <td>1.0</td>\n",
       "      <td>0.0</td>\n",
       "      <td>-1.0</td>\n",
       "      <td>30.0</td>\n",
       "      <td>Zoom_Sequences_FixedLight/Scene1_-1.0_0015.png</td>\n",
       "      <td>Zoom_Sequences_FixedLight/Scene1_-1.0_0020.png</td>\n",
       "      <td>Zoom_Sequences_FixedLight/Scene1_-1.0_0025.png</td>\n",
       "      <td>Translate_Views_FixedLight/Scene1_2.0_0030_0.0...</td>\n",
       "      <td>Translate_Views_FixedLight/Scene1_2.0_0030_1.0...</td>\n",
       "      <td>0.950</td>\n",
       "      <td>0.25</td>\n",
       "      <td>NaN</td>\n",
       "      <td>j</td>\n",
       "      <td>NaN</td>\n",
       "      <td>NaN</td>\n",
       "      <td>1459</td>\n",
       "      <td>20220910</td>\n",
       "      <td>1662807993840</td>\n",
       "    </tr>\n",
       "    <tr>\n",
       "      <th>53180</th>\n",
       "      <td>7.0</td>\n",
       "      <td>0.0</td>\n",
       "      <td>-1.0</td>\n",
       "      <td>90.0</td>\n",
       "      <td>Zoom_Sequences_FixedLight/Scene7_-1.0_0025.png</td>\n",
       "      <td>Zoom_Sequences_FixedLight/Scene7_-1.0_0030.png</td>\n",
       "      <td>Zoom_Sequences_FixedLight/Scene7_-1.0_0050.png</td>\n",
       "      <td>Translate_Views_FixedLight/Scene7_2.0_0090_-0....</td>\n",
       "      <td>Translate_Views_FixedLight/Scene7_2.0_0090_-1....</td>\n",
       "      <td>-0.950</td>\n",
       "      <td>0.25</td>\n",
       "      <td>j</td>\n",
       "      <td>j</td>\n",
       "      <td>1.0</td>\n",
       "      <td>475.6</td>\n",
       "      <td>1459</td>\n",
       "      <td>20220910</td>\n",
       "      <td>1662807993840</td>\n",
       "    </tr>\n",
       "    <tr>\n",
       "      <th>53181</th>\n",
       "      <td>1.0</td>\n",
       "      <td>0.0</td>\n",
       "      <td>2.0</td>\n",
       "      <td>90.0</td>\n",
       "      <td>Zoom_Sequences_FixedLight/Scene1_2.0_0015.png</td>\n",
       "      <td>Zoom_Sequences_FixedLight/Scene1_2.0_0020.png</td>\n",
       "      <td>Zoom_Sequences_FixedLight/Scene1_2.0_0040.png</td>\n",
       "      <td>Translate_Views_FixedLight/Scene1_-1.0_0090_0....</td>\n",
       "      <td>Translate_Views_FixedLight/Scene1_-1.0_0090_0....</td>\n",
       "      <td>0.925</td>\n",
       "      <td>0.25</td>\n",
       "      <td>f</td>\n",
       "      <td>f</td>\n",
       "      <td>1.0</td>\n",
       "      <td>398.3</td>\n",
       "      <td>1459</td>\n",
       "      <td>20220910</td>\n",
       "      <td>1662807993840</td>\n",
       "    </tr>\n",
       "    <tr>\n",
       "      <th>53182</th>\n",
       "      <td>3.0</td>\n",
       "      <td>0.0</td>\n",
       "      <td>-1.0</td>\n",
       "      <td>90.0</td>\n",
       "      <td>Zoom_Sequences_FixedLight/Scene3_-1.0_0020.png</td>\n",
       "      <td>Zoom_Sequences_FixedLight/Scene3_-1.0_0045.png</td>\n",
       "      <td>Zoom_Sequences_FixedLight/Scene3_-1.0_0060.png</td>\n",
       "      <td>Translate_Views_FixedLight/Scene3_2.0_0090_0.0...</td>\n",
       "      <td>Translate_Views_FixedLight/Scene3_2.0_0090_0.0...</td>\n",
       "      <td>-0.925</td>\n",
       "      <td>0.25</td>\n",
       "      <td>f</td>\n",
       "      <td>f</td>\n",
       "      <td>1.0</td>\n",
       "      <td>344.6</td>\n",
       "      <td>1459</td>\n",
       "      <td>20220910</td>\n",
       "      <td>1662807993840</td>\n",
       "    </tr>\n",
       "    <tr>\n",
       "      <th>53183</th>\n",
       "      <td>10.0</td>\n",
       "      <td>0.0</td>\n",
       "      <td>-1.0</td>\n",
       "      <td>30.0</td>\n",
       "      <td>Zoom_Sequences_FixedLight/Scene10_-1.0_0015.png</td>\n",
       "      <td>Zoom_Sequences_FixedLight/Scene10_-1.0_0020.png</td>\n",
       "      <td>Zoom_Sequences_FixedLight/Scene10_-1.0_0025.png</td>\n",
       "      <td>Translate_Views_FixedLight/Scene10_2.0_0030_-0...</td>\n",
       "      <td>Translate_Views_FixedLight/Scene10_2.0_0030_-0...</td>\n",
       "      <td>-0.900</td>\n",
       "      <td>0.25</td>\n",
       "      <td>j</td>\n",
       "      <td>j</td>\n",
       "      <td>1.0</td>\n",
       "      <td>561.5</td>\n",
       "      <td>1459</td>\n",
       "      <td>20220910</td>\n",
       "      <td>1662807993840</td>\n",
       "    </tr>\n",
       "  </tbody>\n",
       "</table>\n",
       "<p>53184 rows × 18 columns</p>\n",
       "</div>"
      ],
      "text/plain": [
       "       scene  expected  initview  finalview  \\\n",
       "0        7.0       1.0      -1.0       90.0   \n",
       "1        1.0       1.0      -1.0       30.0   \n",
       "2       10.0       1.0      -1.0       90.0   \n",
       "3        3.0       1.0       2.0       90.0   \n",
       "4        1.0       1.0      -1.0       30.0   \n",
       "...      ...       ...       ...        ...   \n",
       "53179    1.0       0.0      -1.0       30.0   \n",
       "53180    7.0       0.0      -1.0       90.0   \n",
       "53181    1.0       0.0       2.0       90.0   \n",
       "53182    3.0       0.0      -1.0       90.0   \n",
       "53183   10.0       0.0      -1.0       30.0   \n",
       "\n",
       "                                                 img_2  \\\n",
       "0       Zoom_Sequences_FixedLight/Scene7_-1.0_0020.png   \n",
       "1       Zoom_Sequences_FixedLight/Scene1_-1.0_0015.png   \n",
       "2      Zoom_Sequences_FixedLight/Scene10_-1.0_0025.png   \n",
       "3        Zoom_Sequences_FixedLight/Scene3_2.0_0015.png   \n",
       "4       Zoom_Sequences_FixedLight/Scene1_-1.0_0015.png   \n",
       "...                                                ...   \n",
       "53179   Zoom_Sequences_FixedLight/Scene1_-1.0_0015.png   \n",
       "53180   Zoom_Sequences_FixedLight/Scene7_-1.0_0025.png   \n",
       "53181    Zoom_Sequences_FixedLight/Scene1_2.0_0015.png   \n",
       "53182   Zoom_Sequences_FixedLight/Scene3_-1.0_0020.png   \n",
       "53183  Zoom_Sequences_FixedLight/Scene10_-1.0_0015.png   \n",
       "\n",
       "                                                 img_3  \\\n",
       "0       Zoom_Sequences_FixedLight/Scene7_-1.0_0040.png   \n",
       "1       Zoom_Sequences_FixedLight/Scene1_-1.0_0020.png   \n",
       "2      Zoom_Sequences_FixedLight/Scene10_-1.0_0035.png   \n",
       "3        Zoom_Sequences_FixedLight/Scene3_2.0_0055.png   \n",
       "4       Zoom_Sequences_FixedLight/Scene1_-1.0_0020.png   \n",
       "...                                                ...   \n",
       "53179   Zoom_Sequences_FixedLight/Scene1_-1.0_0020.png   \n",
       "53180   Zoom_Sequences_FixedLight/Scene7_-1.0_0030.png   \n",
       "53181    Zoom_Sequences_FixedLight/Scene1_2.0_0020.png   \n",
       "53182   Zoom_Sequences_FixedLight/Scene3_-1.0_0045.png   \n",
       "53183  Zoom_Sequences_FixedLight/Scene10_-1.0_0020.png   \n",
       "\n",
       "                                                 img_4  \\\n",
       "0       Zoom_Sequences_FixedLight/Scene7_-1.0_0050.png   \n",
       "1       Zoom_Sequences_FixedLight/Scene1_-1.0_0025.png   \n",
       "2      Zoom_Sequences_FixedLight/Scene10_-1.0_0050.png   \n",
       "3        Zoom_Sequences_FixedLight/Scene3_2.0_0060.png   \n",
       "4       Zoom_Sequences_FixedLight/Scene1_-1.0_0025.png   \n",
       "...                                                ...   \n",
       "53179   Zoom_Sequences_FixedLight/Scene1_-1.0_0025.png   \n",
       "53180   Zoom_Sequences_FixedLight/Scene7_-1.0_0050.png   \n",
       "53181    Zoom_Sequences_FixedLight/Scene1_2.0_0040.png   \n",
       "53182   Zoom_Sequences_FixedLight/Scene3_-1.0_0060.png   \n",
       "53183  Zoom_Sequences_FixedLight/Scene10_-1.0_0025.png   \n",
       "\n",
       "                                                 probe_1  \\\n",
       "0      Translate_Views_FixedLight/Scene7_-1.0_0090_-0...   \n",
       "1      Translate_Views_FixedLight/Scene1_-1.0_0030_-0...   \n",
       "2      Translate_Views_FixedLight/Scene10_-1.0_0090_-...   \n",
       "3      Translate_Views_FixedLight/Scene3_2.0_0090_0.0...   \n",
       "4      Translate_Views_FixedLight/Scene1_-1.0_0030_0....   \n",
       "...                                                  ...   \n",
       "53179  Translate_Views_FixedLight/Scene1_2.0_0030_0.0...   \n",
       "53180  Translate_Views_FixedLight/Scene7_2.0_0090_-0....   \n",
       "53181  Translate_Views_FixedLight/Scene1_-1.0_0090_0....   \n",
       "53182  Translate_Views_FixedLight/Scene3_2.0_0090_0.0...   \n",
       "53183  Translate_Views_FixedLight/Scene10_2.0_0030_-0...   \n",
       "\n",
       "                                                 probe_2  int_diff  p_exp  \\\n",
       "0      Translate_Views_FixedLight/Scene7_-1.0_0090_-0...    -0.500   0.75   \n",
       "1      Translate_Views_FixedLight/Scene1_-1.0_0030_-0...    -0.550   0.75   \n",
       "2      Translate_Views_FixedLight/Scene10_-1.0_0090_0...     0.550   0.75   \n",
       "3      Translate_Views_FixedLight/Scene3_2.0_0090_0.5...     0.500   0.75   \n",
       "4      Translate_Views_FixedLight/Scene1_-1.0_0030_0....     0.550   0.75   \n",
       "...                                                  ...       ...    ...   \n",
       "53179  Translate_Views_FixedLight/Scene1_2.0_0030_1.0...     0.950   0.25   \n",
       "53180  Translate_Views_FixedLight/Scene7_2.0_0090_-1....    -0.950   0.25   \n",
       "53181  Translate_Views_FixedLight/Scene1_-1.0_0090_0....     0.925   0.25   \n",
       "53182  Translate_Views_FixedLight/Scene3_2.0_0090_0.0...    -0.925   0.25   \n",
       "53183  Translate_Views_FixedLight/Scene10_2.0_0030_-0...    -0.900   0.25   \n",
       "\n",
       "      response corr_resp  hit     rt  subject      date           time  \n",
       "0            f         j  0.0  361.3      912  20220511  1652269698441  \n",
       "1            f         f  1.0  381.1      912  20220511  1652269698441  \n",
       "2            j         j  1.0  330.1      912  20220511  1652269698441  \n",
       "3            f         j  0.0  332.1      912  20220511  1652269698441  \n",
       "4            f         j  0.0  603.4      912  20220511  1652269698441  \n",
       "...        ...       ...  ...    ...      ...       ...            ...  \n",
       "53179      NaN         j  NaN    NaN     1459  20220910  1662807993840  \n",
       "53180        j         j  1.0  475.6     1459  20220910  1662807993840  \n",
       "53181        f         f  1.0  398.3     1459  20220910  1662807993840  \n",
       "53182        f         f  1.0  344.6     1459  20220910  1662807993840  \n",
       "53183        j         j  1.0  561.5     1459  20220910  1662807993840  \n",
       "\n",
       "[53184 rows x 18 columns]"
      ]
     },
     "execution_count": 30,
     "metadata": {},
     "output_type": "execute_result"
    }
   ],
   "source": [
    "allsubjdata"
   ]
  },
  {
   "cell_type": "code",
   "execution_count": 31,
   "id": "9159550d-1407-4681-b359-b81eda156314",
   "metadata": {
    "pycharm": {
     "name": "#%%\n"
    }
   },
   "outputs": [
    {
     "name": "stdout",
     "output_type": "stream",
     "text": [
      "Excluded 126 out of 277 subjects.\n",
      "Final sample size: 151\n"
     ]
    }
   ],
   "source": [
    "exclude_subjs = subject_exclusion(allsubjdata)\n",
    "allsubjdata_noexcl = allsubjdata.copy()\n",
    "allsubjdata = allsubjdata[~allsubjdata.subject.isin(exclude_subjs)]\n",
    "print(f'Excluded {len(exclude_subjs)} out of {allsubjdata_noexcl.subject.nunique()} subjects.')\n",
    "print('Final sample size:', allsubjdata.subject.nunique())"
   ]
  },
  {
   "cell_type": "code",
   "execution_count": 32,
   "id": "5e15b6cd-9307-4737-b80e-458bb4e90efd",
   "metadata": {
    "pycharm": {
     "name": "#%%\n"
    }
   },
   "outputs": [],
   "source": [
    "# Get mean accuracy per participant, for each experiment\n",
    "allsubjdata = compute_dprimes(allsubjdata)\n",
    "allsubjdata['int_diff'] = allsubjdata['int_diff'].abs()\n",
    "p75data = allsubjdata[allsubjdata['p_exp']==0.75]\n",
    "p50data = allsubjdata[allsubjdata['p_exp']==0.5]\n",
    "p25data = allsubjdata[allsubjdata['p_exp']==0.25]\n",
    "p75means = p75data.groupby(['subject', 'expected']).mean().reset_index()\n",
    "p50means = p50data.groupby(['subject', 'expected']).mean().reset_index()\n",
    "p25means = p25data.groupby(['subject', 'expected']).mean().reset_index()\n",
    "allmeans = allsubjdata.groupby(['subject', 'expected', 'p_exp']).mean().reset_index()"
   ]
  },
  {
   "cell_type": "code",
   "execution_count": 33,
   "id": "35c36198",
   "metadata": {},
   "outputs": [
    {
     "data": {
      "text/html": [
       "<div>\n",
       "<style scoped>\n",
       "    .dataframe tbody tr th:only-of-type {\n",
       "        vertical-align: middle;\n",
       "    }\n",
       "\n",
       "    .dataframe tbody tr th {\n",
       "        vertical-align: top;\n",
       "    }\n",
       "\n",
       "    .dataframe thead th {\n",
       "        text-align: right;\n",
       "    }\n",
       "</style>\n",
       "<table border=\"1\" class=\"dataframe\">\n",
       "  <thead>\n",
       "    <tr style=\"text-align: right;\">\n",
       "      <th></th>\n",
       "      <th>subject</th>\n",
       "      <th>expected</th>\n",
       "      <th>p_exp</th>\n",
       "      <th>scene</th>\n",
       "      <th>initview</th>\n",
       "      <th>finalview</th>\n",
       "      <th>int_diff</th>\n",
       "      <th>hit</th>\n",
       "      <th>rt</th>\n",
       "      <th>date</th>\n",
       "      <th>time</th>\n",
       "      <th>dprime</th>\n",
       "      <th>criterion</th>\n",
       "    </tr>\n",
       "  </thead>\n",
       "  <tbody>\n",
       "    <tr>\n",
       "      <th>0</th>\n",
       "      <td>914</td>\n",
       "      <td>0.0</td>\n",
       "      <td>0.75</td>\n",
       "      <td>5.25</td>\n",
       "      <td>0.5</td>\n",
       "      <td>60.0</td>\n",
       "      <td>0.608333</td>\n",
       "      <td>0.680851</td>\n",
       "      <td>927.812766</td>\n",
       "      <td>20220511</td>\n",
       "      <td>1652269532447</td>\n",
       "      <td>0.861424</td>\n",
       "      <td>-0.075222</td>\n",
       "    </tr>\n",
       "    <tr>\n",
       "      <th>1</th>\n",
       "      <td>914</td>\n",
       "      <td>1.0</td>\n",
       "      <td>0.75</td>\n",
       "      <td>5.25</td>\n",
       "      <td>0.5</td>\n",
       "      <td>60.0</td>\n",
       "      <td>0.602778</td>\n",
       "      <td>0.776224</td>\n",
       "      <td>806.628671</td>\n",
       "      <td>20220511</td>\n",
       "      <td>1652269532447</td>\n",
       "      <td>1.511193</td>\n",
       "      <td>0.091289</td>\n",
       "    </tr>\n",
       "    <tr>\n",
       "      <th>2</th>\n",
       "      <td>917</td>\n",
       "      <td>0.0</td>\n",
       "      <td>0.75</td>\n",
       "      <td>5.25</td>\n",
       "      <td>0.5</td>\n",
       "      <td>60.0</td>\n",
       "      <td>0.298958</td>\n",
       "      <td>0.687500</td>\n",
       "      <td>661.875000</td>\n",
       "      <td>20220511</td>\n",
       "      <td>1652272664335</td>\n",
       "      <td>1.032268</td>\n",
       "      <td>0.371013</td>\n",
       "    </tr>\n",
       "    <tr>\n",
       "      <th>3</th>\n",
       "      <td>917</td>\n",
       "      <td>1.0</td>\n",
       "      <td>0.75</td>\n",
       "      <td>5.25</td>\n",
       "      <td>0.5</td>\n",
       "      <td>60.0</td>\n",
       "      <td>0.331424</td>\n",
       "      <td>0.743056</td>\n",
       "      <td>689.201389</td>\n",
       "      <td>20220511</td>\n",
       "      <td>1652272664335</td>\n",
       "      <td>1.304992</td>\n",
       "      <td>0.280835</td>\n",
       "    </tr>\n",
       "    <tr>\n",
       "      <th>4</th>\n",
       "      <td>926</td>\n",
       "      <td>0.0</td>\n",
       "      <td>0.75</td>\n",
       "      <td>5.25</td>\n",
       "      <td>0.5</td>\n",
       "      <td>60.0</td>\n",
       "      <td>0.497396</td>\n",
       "      <td>0.583333</td>\n",
       "      <td>470.512500</td>\n",
       "      <td>20220511</td>\n",
       "      <td>1652279389985</td>\n",
       "      <td>0.539800</td>\n",
       "      <td>0.404590</td>\n",
       "    </tr>\n",
       "    <tr>\n",
       "      <th>...</th>\n",
       "      <td>...</td>\n",
       "      <td>...</td>\n",
       "      <td>...</td>\n",
       "      <td>...</td>\n",
       "      <td>...</td>\n",
       "      <td>...</td>\n",
       "      <td>...</td>\n",
       "      <td>...</td>\n",
       "      <td>...</td>\n",
       "      <td>...</td>\n",
       "      <td>...</td>\n",
       "      <td>...</td>\n",
       "      <td>...</td>\n",
       "    </tr>\n",
       "    <tr>\n",
       "      <th>297</th>\n",
       "      <td>1457</td>\n",
       "      <td>1.0</td>\n",
       "      <td>0.25</td>\n",
       "      <td>5.25</td>\n",
       "      <td>0.5</td>\n",
       "      <td>60.0</td>\n",
       "      <td>0.563542</td>\n",
       "      <td>0.625000</td>\n",
       "      <td>483.004167</td>\n",
       "      <td>20220909</td>\n",
       "      <td>1662735197563</td>\n",
       "      <td>0.591449</td>\n",
       "      <td>0.186524</td>\n",
       "    </tr>\n",
       "    <tr>\n",
       "      <th>298</th>\n",
       "      <td>1458</td>\n",
       "      <td>0.0</td>\n",
       "      <td>0.25</td>\n",
       "      <td>5.25</td>\n",
       "      <td>0.5</td>\n",
       "      <td>60.0</td>\n",
       "      <td>0.901910</td>\n",
       "      <td>0.673611</td>\n",
       "      <td>603.143750</td>\n",
       "      <td>20220910</td>\n",
       "      <td>1662802413631</td>\n",
       "      <td>0.886217</td>\n",
       "      <td>0.031403</td>\n",
       "    </tr>\n",
       "    <tr>\n",
       "      <th>299</th>\n",
       "      <td>1458</td>\n",
       "      <td>1.0</td>\n",
       "      <td>0.25</td>\n",
       "      <td>5.25</td>\n",
       "      <td>0.5</td>\n",
       "      <td>60.0</td>\n",
       "      <td>0.905729</td>\n",
       "      <td>0.750000</td>\n",
       "      <td>578.777083</td>\n",
       "      <td>20220910</td>\n",
       "      <td>1662802413631</td>\n",
       "      <td>1.407480</td>\n",
       "      <td>0.323414</td>\n",
       "    </tr>\n",
       "    <tr>\n",
       "      <th>300</th>\n",
       "      <td>1459</td>\n",
       "      <td>0.0</td>\n",
       "      <td>0.25</td>\n",
       "      <td>5.25</td>\n",
       "      <td>0.5</td>\n",
       "      <td>60.0</td>\n",
       "      <td>0.974479</td>\n",
       "      <td>0.633803</td>\n",
       "      <td>634.678169</td>\n",
       "      <td>20220910</td>\n",
       "      <td>1662807993840</td>\n",
       "      <td>0.668455</td>\n",
       "      <td>0.567713</td>\n",
       "    </tr>\n",
       "    <tr>\n",
       "      <th>301</th>\n",
       "      <td>1459</td>\n",
       "      <td>1.0</td>\n",
       "      <td>0.25</td>\n",
       "      <td>5.25</td>\n",
       "      <td>0.5</td>\n",
       "      <td>60.0</td>\n",
       "      <td>0.969271</td>\n",
       "      <td>0.574468</td>\n",
       "      <td>613.959574</td>\n",
       "      <td>20220910</td>\n",
       "      <td>1662807993840</td>\n",
       "      <td>0.470025</td>\n",
       "      <td>0.845307</td>\n",
       "    </tr>\n",
       "  </tbody>\n",
       "</table>\n",
       "<p>302 rows × 13 columns</p>\n",
       "</div>"
      ],
      "text/plain": [
       "     subject  expected  p_exp  scene  initview  finalview  int_diff       hit  \\\n",
       "0        914       0.0   0.75   5.25       0.5       60.0  0.608333  0.680851   \n",
       "1        914       1.0   0.75   5.25       0.5       60.0  0.602778  0.776224   \n",
       "2        917       0.0   0.75   5.25       0.5       60.0  0.298958  0.687500   \n",
       "3        917       1.0   0.75   5.25       0.5       60.0  0.331424  0.743056   \n",
       "4        926       0.0   0.75   5.25       0.5       60.0  0.497396  0.583333   \n",
       "..       ...       ...    ...    ...       ...        ...       ...       ...   \n",
       "297     1457       1.0   0.25   5.25       0.5       60.0  0.563542  0.625000   \n",
       "298     1458       0.0   0.25   5.25       0.5       60.0  0.901910  0.673611   \n",
       "299     1458       1.0   0.25   5.25       0.5       60.0  0.905729  0.750000   \n",
       "300     1459       0.0   0.25   5.25       0.5       60.0  0.974479  0.633803   \n",
       "301     1459       1.0   0.25   5.25       0.5       60.0  0.969271  0.574468   \n",
       "\n",
       "             rt      date           time    dprime  criterion  \n",
       "0    927.812766  20220511  1652269532447  0.861424  -0.075222  \n",
       "1    806.628671  20220511  1652269532447  1.511193   0.091289  \n",
       "2    661.875000  20220511  1652272664335  1.032268   0.371013  \n",
       "3    689.201389  20220511  1652272664335  1.304992   0.280835  \n",
       "4    470.512500  20220511  1652279389985  0.539800   0.404590  \n",
       "..          ...       ...            ...       ...        ...  \n",
       "297  483.004167  20220909  1662735197563  0.591449   0.186524  \n",
       "298  603.143750  20220910  1662802413631  0.886217   0.031403  \n",
       "299  578.777083  20220910  1662802413631  1.407480   0.323414  \n",
       "300  634.678169  20220910  1662807993840  0.668455   0.567713  \n",
       "301  613.959574  20220910  1662807993840  0.470025   0.845307  \n",
       "\n",
       "[302 rows x 13 columns]"
      ]
     },
     "execution_count": 33,
     "metadata": {},
     "output_type": "execute_result"
    }
   ],
   "source": [
    "allmeans"
   ]
  },
  {
   "cell_type": "code",
   "execution_count": 34,
   "id": "9103c3f6",
   "metadata": {},
   "outputs": [
    {
     "data": {
      "text/plain": [
       "<AxesSubplot:xlabel='p_exp', ylabel='int_diff'>"
      ]
     },
     "execution_count": 34,
     "metadata": {},
     "output_type": "execute_result"
    },
    {
     "data": {
      "image/png": "[encoded data removed]",
      "text/plain": [
       "<Figure size 640x480 with 1 Axes>"
      ]
     },
     "metadata": {},
     "output_type": "display_data"
    }
   ],
   "source": [
    "sns.barplot(data=allmeans, x='p_exp', order=[0.75, 0.5, 0.25], y='int_diff',\n",
    "            hue='expected', hue_order=[1.0, 0.0])"
   ]
  },
  {
   "cell_type": "code",
   "execution_count": 35,
   "id": "6e7741ea",
   "metadata": {},
   "outputs": [
    {
     "data": {
      "text/html": [
       "<div>\n",
       "<style scoped>\n",
       "    .dataframe tbody tr th:only-of-type {\n",
       "        vertical-align: middle;\n",
       "    }\n",
       "\n",
       "    .dataframe tbody tr th {\n",
       "        vertical-align: top;\n",
       "    }\n",
       "\n",
       "    .dataframe thead th {\n",
       "        text-align: right;\n",
       "    }\n",
       "</style>\n",
       "<table border=\"1\" class=\"dataframe\">\n",
       "  <thead>\n",
       "    <tr style=\"text-align: right;\">\n",
       "      <th></th>\n",
       "      <th>Source</th>\n",
       "      <th>SS</th>\n",
       "      <th>DF1</th>\n",
       "      <th>DF2</th>\n",
       "      <th>MS</th>\n",
       "      <th>F</th>\n",
       "      <th>p-unc</th>\n",
       "      <th>np2</th>\n",
       "      <th>eps</th>\n",
       "    </tr>\n",
       "  </thead>\n",
       "  <tbody>\n",
       "    <tr>\n",
       "      <th>0</th>\n",
       "      <td>p_exp</td>\n",
       "      <td>0.378078</td>\n",
       "      <td>1</td>\n",
       "      <td>99</td>\n",
       "      <td>0.378078</td>\n",
       "      <td>6.420807</td>\n",
       "      <td>0.012847</td>\n",
       "      <td>0.060906</td>\n",
       "      <td>NaN</td>\n",
       "    </tr>\n",
       "    <tr>\n",
       "      <th>1</th>\n",
       "      <td>expected</td>\n",
       "      <td>0.000240</td>\n",
       "      <td>1</td>\n",
       "      <td>99</td>\n",
       "      <td>0.000240</td>\n",
       "      <td>1.151194</td>\n",
       "      <td>0.285908</td>\n",
       "      <td>0.011495</td>\n",
       "      <td>1.0</td>\n",
       "    </tr>\n",
       "    <tr>\n",
       "      <th>2</th>\n",
       "      <td>Interaction</td>\n",
       "      <td>0.000738</td>\n",
       "      <td>1</td>\n",
       "      <td>99</td>\n",
       "      <td>0.000738</td>\n",
       "      <td>3.548832</td>\n",
       "      <td>0.062522</td>\n",
       "      <td>0.034606</td>\n",
       "      <td>NaN</td>\n",
       "    </tr>\n",
       "  </tbody>\n",
       "</table>\n",
       "</div>"
      ],
      "text/plain": [
       "        Source        SS  DF1  DF2        MS         F     p-unc       np2  \\\n",
       "0        p_exp  0.378078    1   99  0.378078  6.420807  0.012847  0.060906   \n",
       "1     expected  0.000240    1   99  0.000240  1.151194  0.285908  0.011495   \n",
       "2  Interaction  0.000738    1   99  0.000738  3.548832  0.062522  0.034606   \n",
       "\n",
       "   eps  \n",
       "0  NaN  \n",
       "1  1.0  \n",
       "2  NaN  "
      ]
     },
     "execution_count": 35,
     "metadata": {},
     "output_type": "execute_result"
    }
   ],
   "source": [
    "pg.mixed_anova(data=allmeans[allmeans['p_exp'].isin([0.75, 0.25])], subject='subject', between='p_exp',\n",
    "               within='expected', dv='int_diff')"
   ]
  },
  {
   "attachments": {},
   "cell_type": "markdown",
   "id": "2ade03dc",
   "metadata": {},
   "source": [
    "### Experiment 1"
   ]
  },
  {
   "cell_type": "code",
   "execution_count": 88,
   "id": "d490131f",
   "metadata": {},
   "outputs": [
    {
     "data": {
      "text/plain": [
       "mean    0.677963\n",
       "sem     0.007583\n",
       "Name: hit, dtype: float64"
      ]
     },
     "execution_count": 88,
     "metadata": {},
     "output_type": "execute_result"
    }
   ],
   "source": [
    "p75_overall = p75data.groupby(['subject']).mean().reset_index()\n",
    "p75_overall['hit'].agg(['mean', 'sem'])"
   ]
  },
  {
   "cell_type": "code",
   "execution_count": 90,
   "id": "13bd4fb2",
   "metadata": {},
   "outputs": [
    {
     "data": {
      "text/plain": [
       "0.16718513033772633"
      ]
     },
     "execution_count": 90,
     "metadata": {},
     "output_type": "execute_result"
    }
   ],
   "source": [
    "p75_overall['criterion'].mean()"
   ]
  },
  {
   "cell_type": "code",
   "execution_count": 91,
   "id": "0ed8e729",
   "metadata": {},
   "outputs": [
    {
     "data": {
      "text/html": [
       "<div>\n",
       "<style scoped>\n",
       "    .dataframe tbody tr th:only-of-type {\n",
       "        vertical-align: middle;\n",
       "    }\n",
       "\n",
       "    .dataframe tbody tr th {\n",
       "        vertical-align: top;\n",
       "    }\n",
       "\n",
       "    .dataframe thead th {\n",
       "        text-align: right;\n",
       "    }\n",
       "</style>\n",
       "<table border=\"1\" class=\"dataframe\">\n",
       "  <thead>\n",
       "    <tr style=\"text-align: right;\">\n",
       "      <th></th>\n",
       "      <th>T</th>\n",
       "      <th>dof</th>\n",
       "      <th>tail</th>\n",
       "      <th>p-val</th>\n",
       "      <th>CI95%</th>\n",
       "      <th>cohen-d</th>\n",
       "      <th>BF10</th>\n",
       "      <th>power</th>\n",
       "    </tr>\n",
       "  </thead>\n",
       "  <tbody>\n",
       "    <tr>\n",
       "      <th>T-test</th>\n",
       "      <td>5.442079</td>\n",
       "      <td>49</td>\n",
       "      <td>two-sided</td>\n",
       "      <td>0.000002</td>\n",
       "      <td>[0.11, 0.23]</td>\n",
       "      <td>0.769626</td>\n",
       "      <td>1.012e+04</td>\n",
       "      <td>0.999628</td>\n",
       "    </tr>\n",
       "  </tbody>\n",
       "</table>\n",
       "</div>"
      ],
      "text/plain": [
       "               T  dof       tail     p-val         CI95%   cohen-d       BF10  \\\n",
       "T-test  5.442079   49  two-sided  0.000002  [0.11, 0.23]  0.769626  1.012e+04   \n",
       "\n",
       "           power  \n",
       "T-test  0.999628  "
      ]
     },
     "execution_count": 91,
     "metadata": {},
     "output_type": "execute_result"
    }
   ],
   "source": [
    "pg.ttest(p75_overall['criterion'], 0.0)"
   ]
  },
  {
   "cell_type": "code",
   "execution_count": 68,
   "id": "59163244",
   "metadata": {},
   "outputs": [
    {
     "data": {
      "text/html": [
       "<div>\n",
       "<style scoped>\n",
       "    .dataframe tbody tr th:only-of-type {\n",
       "        vertical-align: middle;\n",
       "    }\n",
       "\n",
       "    .dataframe tbody tr th {\n",
       "        vertical-align: top;\n",
       "    }\n",
       "\n",
       "    .dataframe thead tr th {\n",
       "        text-align: left;\n",
       "    }\n",
       "\n",
       "    .dataframe thead tr:last-of-type th {\n",
       "        text-align: right;\n",
       "    }\n",
       "</style>\n",
       "<table border=\"1\" class=\"dataframe\">\n",
       "  <thead>\n",
       "    <tr>\n",
       "      <th></th>\n",
       "      <th colspan=\"2\" halign=\"left\">hit</th>\n",
       "      <th colspan=\"2\" halign=\"left\">dprime</th>\n",
       "      <th colspan=\"2\" halign=\"left\">criterion</th>\n",
       "    </tr>\n",
       "    <tr>\n",
       "      <th></th>\n",
       "      <th>mean</th>\n",
       "      <th>sem</th>\n",
       "      <th>mean</th>\n",
       "      <th>sem</th>\n",
       "      <th>mean</th>\n",
       "      <th>sem</th>\n",
       "    </tr>\n",
       "    <tr>\n",
       "      <th>expected</th>\n",
       "      <th></th>\n",
       "      <th></th>\n",
       "      <th></th>\n",
       "      <th></th>\n",
       "      <th></th>\n",
       "      <th></th>\n",
       "    </tr>\n",
       "  </thead>\n",
       "  <tbody>\n",
       "    <tr>\n",
       "      <th>0.0</th>\n",
       "      <td>0.650657</td>\n",
       "      <td>0.010799</td>\n",
       "      <td>0.787876</td>\n",
       "      <td>0.057326</td>\n",
       "      <td>-0.002895</td>\n",
       "      <td>0.046794</td>\n",
       "    </tr>\n",
       "    <tr>\n",
       "      <th>1.0</th>\n",
       "      <td>0.687042</td>\n",
       "      <td>0.008407</td>\n",
       "      <td>1.015837</td>\n",
       "      <td>0.048967</td>\n",
       "      <td>0.223878</td>\n",
       "      <td>0.034153</td>\n",
       "    </tr>\n",
       "  </tbody>\n",
       "</table>\n",
       "</div>"
      ],
      "text/plain": [
       "               hit              dprime           criterion          \n",
       "              mean       sem      mean       sem      mean       sem\n",
       "expected                                                            \n",
       "0.0       0.650657  0.010799  0.787876  0.057326 -0.002895  0.046794\n",
       "1.0       0.687042  0.008407  1.015837  0.048967  0.223878  0.034153"
      ]
     },
     "execution_count": 68,
     "metadata": {},
     "output_type": "execute_result"
    }
   ],
   "source": [
    "# Mean accuracy for congruent and incongruent trials\n",
    "p75means.groupby(['expected'])[['hit', 'dprime', 'criterion']].agg(['mean', 'sem'])"
   ]
  },
  {
   "cell_type": "code",
   "execution_count": 74,
   "id": "c7442c26",
   "metadata": {},
   "outputs": [
    {
     "data": {
      "text/html": [
       "<div>\n",
       "<style scoped>\n",
       "    .dataframe tbody tr th:only-of-type {\n",
       "        vertical-align: middle;\n",
       "    }\n",
       "\n",
       "    .dataframe tbody tr th {\n",
       "        vertical-align: top;\n",
       "    }\n",
       "\n",
       "    .dataframe thead th {\n",
       "        text-align: right;\n",
       "    }\n",
       "</style>\n",
       "<table border=\"1\" class=\"dataframe\">\n",
       "  <thead>\n",
       "    <tr style=\"text-align: right;\">\n",
       "      <th></th>\n",
       "      <th>T</th>\n",
       "      <th>dof</th>\n",
       "      <th>tail</th>\n",
       "      <th>p-val</th>\n",
       "      <th>CI95%</th>\n",
       "      <th>cohen-d</th>\n",
       "      <th>BF10</th>\n",
       "      <th>power</th>\n",
       "    </tr>\n",
       "  </thead>\n",
       "  <tbody>\n",
       "    <tr>\n",
       "      <th>T-test</th>\n",
       "      <td>3.169645</td>\n",
       "      <td>49</td>\n",
       "      <td>two-sided</td>\n",
       "      <td>0.00263</td>\n",
       "      <td>[0.01, 0.06]</td>\n",
       "      <td>0.531722</td>\n",
       "      <td>12.046</td>\n",
       "      <td>0.957756</td>\n",
       "    </tr>\n",
       "  </tbody>\n",
       "</table>\n",
       "</div>"
      ],
      "text/plain": [
       "               T  dof       tail    p-val         CI95%   cohen-d    BF10  \\\n",
       "T-test  3.169645   49  two-sided  0.00263  [0.01, 0.06]  0.531722  12.046   \n",
       "\n",
       "           power  \n",
       "T-test  0.957756  "
      ]
     },
     "execution_count": 74,
     "metadata": {},
     "output_type": "execute_result"
    }
   ],
   "source": [
    "pg.ttest(p75means[p75means['expected']==1].hit, \n",
    "         p75means[p75means['expected']==0].hit, paired=True)"
   ]
  },
  {
   "cell_type": "code",
   "execution_count": 75,
   "id": "40cc3ae5",
   "metadata": {},
   "outputs": [
    {
     "data": {
      "text/html": [
       "<div>\n",
       "<style scoped>\n",
       "    .dataframe tbody tr th:only-of-type {\n",
       "        vertical-align: middle;\n",
       "    }\n",
       "\n",
       "    .dataframe tbody tr th {\n",
       "        vertical-align: top;\n",
       "    }\n",
       "\n",
       "    .dataframe thead th {\n",
       "        text-align: right;\n",
       "    }\n",
       "</style>\n",
       "<table border=\"1\" class=\"dataframe\">\n",
       "  <thead>\n",
       "    <tr style=\"text-align: right;\">\n",
       "      <th></th>\n",
       "      <th>T</th>\n",
       "      <th>dof</th>\n",
       "      <th>tail</th>\n",
       "      <th>p-val</th>\n",
       "      <th>CI95%</th>\n",
       "      <th>cohen-d</th>\n",
       "      <th>BF10</th>\n",
       "      <th>power</th>\n",
       "    </tr>\n",
       "  </thead>\n",
       "  <tbody>\n",
       "    <tr>\n",
       "      <th>T-test</th>\n",
       "      <td>3.69559</td>\n",
       "      <td>49</td>\n",
       "      <td>two-sided</td>\n",
       "      <td>0.000553</td>\n",
       "      <td>[0.1, 0.35]</td>\n",
       "      <td>0.604733</td>\n",
       "      <td>48.483</td>\n",
       "      <td>0.987158</td>\n",
       "    </tr>\n",
       "  </tbody>\n",
       "</table>\n",
       "</div>"
      ],
      "text/plain": [
       "              T  dof       tail     p-val        CI95%   cohen-d    BF10  \\\n",
       "T-test  3.69559   49  two-sided  0.000553  [0.1, 0.35]  0.604733  48.483   \n",
       "\n",
       "           power  \n",
       "T-test  0.987158  "
      ]
     },
     "execution_count": 75,
     "metadata": {},
     "output_type": "execute_result"
    }
   ],
   "source": [
    "pg.ttest(p75means[p75means['expected']==1].dprime, \n",
    "         p75means[p75means['expected']==0].dprime, paired=True)"
   ]
  },
  {
   "cell_type": "code",
   "execution_count": 71,
   "id": "80ad446a",
   "metadata": {},
   "outputs": [
    {
     "data": {
      "text/html": [
       "<div>\n",
       "<style scoped>\n",
       "    .dataframe tbody tr th:only-of-type {\n",
       "        vertical-align: middle;\n",
       "    }\n",
       "\n",
       "    .dataframe tbody tr th {\n",
       "        vertical-align: top;\n",
       "    }\n",
       "\n",
       "    .dataframe thead th {\n",
       "        text-align: right;\n",
       "    }\n",
       "</style>\n",
       "<table border=\"1\" class=\"dataframe\">\n",
       "  <thead>\n",
       "    <tr style=\"text-align: right;\">\n",
       "      <th></th>\n",
       "      <th>T</th>\n",
       "      <th>dof</th>\n",
       "      <th>tail</th>\n",
       "      <th>p-val</th>\n",
       "      <th>CI95%</th>\n",
       "      <th>cohen-d</th>\n",
       "      <th>BF10</th>\n",
       "      <th>power</th>\n",
       "    </tr>\n",
       "  </thead>\n",
       "  <tbody>\n",
       "    <tr>\n",
       "      <th>T-test</th>\n",
       "      <td>4.489235</td>\n",
       "      <td>49</td>\n",
       "      <td>two-sided</td>\n",
       "      <td>0.000043</td>\n",
       "      <td>[0.13, 0.33]</td>\n",
       "      <td>0.782897</td>\n",
       "      <td>492.785</td>\n",
       "      <td>0.999735</td>\n",
       "    </tr>\n",
       "  </tbody>\n",
       "</table>\n",
       "</div>"
      ],
      "text/plain": [
       "               T  dof       tail     p-val         CI95%   cohen-d     BF10  \\\n",
       "T-test  4.489235   49  two-sided  0.000043  [0.13, 0.33]  0.782897  492.785   \n",
       "\n",
       "           power  \n",
       "T-test  0.999735  "
      ]
     },
     "execution_count": 71,
     "metadata": {},
     "output_type": "execute_result"
    }
   ],
   "source": [
    "pg.ttest(p75means[p75means['expected']==1].criterion, \n",
    "         p75means[p75means['expected']==0].criterion, paired=True)"
   ]
  },
  {
   "cell_type": "code",
   "execution_count": 40,
   "id": "24be415d",
   "metadata": {},
   "outputs": [
    {
     "data": {
      "image/png": "[encoded data removed]",
      "text/plain": [
       "<Figure size 700x1000 with 1 Axes>"
      ]
     },
     "metadata": {},
     "output_type": "display_data"
    }
   ],
   "source": [
    "# Plot accuracy for congruent and incongruent trials\n",
    "make_pretty_plot(p75means, measure='hit', cloudplot=False, saveimg=True)"
   ]
  },
  {
   "cell_type": "code",
   "execution_count": 60,
   "id": "a1793082",
   "metadata": {},
   "outputs": [
    {
     "data": {
      "image/png": "[encoded data removed]",
      "text/plain": [
       "<Figure size 700x1000 with 1 Axes>"
      ]
     },
     "metadata": {},
     "output_type": "display_data"
    }
   ],
   "source": [
    "make_pretty_plot(p75means, measure='dprime', cloudplot=False, saveimg=True)"
   ]
  },
  {
   "cell_type": "code",
   "execution_count": 42,
   "id": "5bab884d",
   "metadata": {},
   "outputs": [
    {
     "data": {
      "image/png": "[encoded data removed]",
      "text/plain": [
       "<Figure size 700x1000 with 1 Axes>"
      ]
     },
     "metadata": {},
     "output_type": "display_data"
    }
   ],
   "source": [
    "make_pretty_plot(p75means, measure='criterion', cloudplot=False, saveimg=True)"
   ]
  },
  {
   "attachments": {},
   "cell_type": "markdown",
   "id": "c49fc769",
   "metadata": {},
   "source": [
    "### Experiment 2"
   ]
  },
  {
   "cell_type": "code",
   "execution_count": 92,
   "id": "ba400702",
   "metadata": {},
   "outputs": [
    {
     "data": {
      "text/plain": [
       "mean    0.682181\n",
       "sem     0.007564\n",
       "Name: hit, dtype: float64"
      ]
     },
     "execution_count": 92,
     "metadata": {},
     "output_type": "execute_result"
    }
   ],
   "source": [
    "p50_overall = p50data.groupby(['subject']).mean().reset_index()\n",
    "p50_overall['hit'].agg(['mean', 'sem'])"
   ]
  },
  {
   "cell_type": "code",
   "execution_count": 77,
   "id": "6b0657d2",
   "metadata": {},
   "outputs": [
    {
     "data": {
      "text/plain": [
       "0.15230484584473694"
      ]
     },
     "execution_count": 77,
     "metadata": {},
     "output_type": "execute_result"
    }
   ],
   "source": [
    "p50_overall['criterion'].mean()"
   ]
  },
  {
   "cell_type": "code",
   "execution_count": 78,
   "id": "b3567dc1",
   "metadata": {},
   "outputs": [
    {
     "data": {
      "text/html": [
       "<div>\n",
       "<style scoped>\n",
       "    .dataframe tbody tr th:only-of-type {\n",
       "        vertical-align: middle;\n",
       "    }\n",
       "\n",
       "    .dataframe tbody tr th {\n",
       "        vertical-align: top;\n",
       "    }\n",
       "\n",
       "    .dataframe thead th {\n",
       "        text-align: right;\n",
       "    }\n",
       "</style>\n",
       "<table border=\"1\" class=\"dataframe\">\n",
       "  <thead>\n",
       "    <tr style=\"text-align: right;\">\n",
       "      <th></th>\n",
       "      <th>T</th>\n",
       "      <th>dof</th>\n",
       "      <th>tail</th>\n",
       "      <th>p-val</th>\n",
       "      <th>CI95%</th>\n",
       "      <th>cohen-d</th>\n",
       "      <th>BF10</th>\n",
       "      <th>power</th>\n",
       "    </tr>\n",
       "  </thead>\n",
       "  <tbody>\n",
       "    <tr>\n",
       "      <th>T-test</th>\n",
       "      <td>4.695673</td>\n",
       "      <td>49</td>\n",
       "      <td>two-sided</td>\n",
       "      <td>0.000022</td>\n",
       "      <td>[0.09, 0.22]</td>\n",
       "      <td>0.664068</td>\n",
       "      <td>931.588</td>\n",
       "      <td>0.995878</td>\n",
       "    </tr>\n",
       "  </tbody>\n",
       "</table>\n",
       "</div>"
      ],
      "text/plain": [
       "               T  dof       tail     p-val         CI95%   cohen-d     BF10  \\\n",
       "T-test  4.695673   49  two-sided  0.000022  [0.09, 0.22]  0.664068  931.588   \n",
       "\n",
       "           power  \n",
       "T-test  0.995878  "
      ]
     },
     "execution_count": 78,
     "metadata": {},
     "output_type": "execute_result"
    }
   ],
   "source": [
    "pg.ttest(p50_overall['criterion'], 0.0)"
   ]
  },
  {
   "cell_type": "code",
   "execution_count": 43,
   "id": "adb8ed8b",
   "metadata": {},
   "outputs": [
    {
     "data": {
      "text/html": [
       "<div>\n",
       "<style scoped>\n",
       "    .dataframe tbody tr th:only-of-type {\n",
       "        vertical-align: middle;\n",
       "    }\n",
       "\n",
       "    .dataframe tbody tr th {\n",
       "        vertical-align: top;\n",
       "    }\n",
       "\n",
       "    .dataframe thead tr th {\n",
       "        text-align: left;\n",
       "    }\n",
       "\n",
       "    .dataframe thead tr:last-of-type th {\n",
       "        text-align: right;\n",
       "    }\n",
       "</style>\n",
       "<table border=\"1\" class=\"dataframe\">\n",
       "  <thead>\n",
       "    <tr>\n",
       "      <th></th>\n",
       "      <th colspan=\"2\" halign=\"left\">hit</th>\n",
       "      <th colspan=\"2\" halign=\"left\">dprime</th>\n",
       "      <th colspan=\"2\" halign=\"left\">criterion</th>\n",
       "    </tr>\n",
       "    <tr>\n",
       "      <th></th>\n",
       "      <th>mean</th>\n",
       "      <th>sem</th>\n",
       "      <th>mean</th>\n",
       "      <th>sem</th>\n",
       "      <th>mean</th>\n",
       "      <th>sem</th>\n",
       "    </tr>\n",
       "    <tr>\n",
       "      <th>expected</th>\n",
       "      <th></th>\n",
       "      <th></th>\n",
       "      <th></th>\n",
       "      <th></th>\n",
       "      <th></th>\n",
       "      <th></th>\n",
       "    </tr>\n",
       "  </thead>\n",
       "  <tbody>\n",
       "    <tr>\n",
       "      <th>0.0</th>\n",
       "      <td>0.677483</td>\n",
       "      <td>0.009019</td>\n",
       "      <td>0.935979</td>\n",
       "      <td>0.054813</td>\n",
       "      <td>0.070271</td>\n",
       "      <td>0.043417</td>\n",
       "    </tr>\n",
       "    <tr>\n",
       "      <th>1.0</th>\n",
       "      <td>0.686819</td>\n",
       "      <td>0.009356</td>\n",
       "      <td>1.019368</td>\n",
       "      <td>0.057108</td>\n",
       "      <td>0.234339</td>\n",
       "      <td>0.040586</td>\n",
       "    </tr>\n",
       "  </tbody>\n",
       "</table>\n",
       "</div>"
      ],
      "text/plain": [
       "               hit              dprime           criterion          \n",
       "              mean       sem      mean       sem      mean       sem\n",
       "expected                                                            \n",
       "0.0       0.677483  0.009019  0.935979  0.054813  0.070271  0.043417\n",
       "1.0       0.686819  0.009356  1.019368  0.057108  0.234339  0.040586"
      ]
     },
     "execution_count": 43,
     "metadata": {},
     "output_type": "execute_result"
    }
   ],
   "source": [
    "# Mean accuracy for congruent and incongruent trials\n",
    "p50means.groupby(['expected'])[['hit', 'dprime', 'criterion']].agg(['mean', 'sem'])"
   ]
  },
  {
   "cell_type": "code",
   "execution_count": 44,
   "id": "bd00f787",
   "metadata": {},
   "outputs": [
    {
     "data": {
      "text/html": [
       "<div>\n",
       "<style scoped>\n",
       "    .dataframe tbody tr th:only-of-type {\n",
       "        vertical-align: middle;\n",
       "    }\n",
       "\n",
       "    .dataframe tbody tr th {\n",
       "        vertical-align: top;\n",
       "    }\n",
       "\n",
       "    .dataframe thead th {\n",
       "        text-align: right;\n",
       "    }\n",
       "</style>\n",
       "<table border=\"1\" class=\"dataframe\">\n",
       "  <thead>\n",
       "    <tr style=\"text-align: right;\">\n",
       "      <th></th>\n",
       "      <th>T</th>\n",
       "      <th>dof</th>\n",
       "      <th>tail</th>\n",
       "      <th>p-val</th>\n",
       "      <th>CI95%</th>\n",
       "      <th>cohen-d</th>\n",
       "      <th>BF10</th>\n",
       "      <th>power</th>\n",
       "    </tr>\n",
       "  </thead>\n",
       "  <tbody>\n",
       "    <tr>\n",
       "      <th>T-test</th>\n",
       "      <td>0.894662</td>\n",
       "      <td>49</td>\n",
       "      <td>two-sided</td>\n",
       "      <td>0.375341</td>\n",
       "      <td>[-0.01, 0.03]</td>\n",
       "      <td>0.14369</td>\n",
       "      <td>0.225</td>\n",
       "      <td>0.169144</td>\n",
       "    </tr>\n",
       "  </tbody>\n",
       "</table>\n",
       "</div>"
      ],
      "text/plain": [
       "               T  dof       tail     p-val          CI95%  cohen-d   BF10  \\\n",
       "T-test  0.894662   49  two-sided  0.375341  [-0.01, 0.03]  0.14369  0.225   \n",
       "\n",
       "           power  \n",
       "T-test  0.169144  "
      ]
     },
     "execution_count": 44,
     "metadata": {},
     "output_type": "execute_result"
    }
   ],
   "source": [
    "pg.ttest(p50means[p50means['expected']==1].hit, \n",
    "         p50means[p50means['expected']==0].hit, paired=True)"
   ]
  },
  {
   "cell_type": "code",
   "execution_count": 79,
   "id": "7523924e",
   "metadata": {},
   "outputs": [
    {
     "data": {
      "text/html": [
       "<div>\n",
       "<style scoped>\n",
       "    .dataframe tbody tr th:only-of-type {\n",
       "        vertical-align: middle;\n",
       "    }\n",
       "\n",
       "    .dataframe tbody tr th {\n",
       "        vertical-align: top;\n",
       "    }\n",
       "\n",
       "    .dataframe thead th {\n",
       "        text-align: right;\n",
       "    }\n",
       "</style>\n",
       "<table border=\"1\" class=\"dataframe\">\n",
       "  <thead>\n",
       "    <tr style=\"text-align: right;\">\n",
       "      <th></th>\n",
       "      <th>T</th>\n",
       "      <th>dof</th>\n",
       "      <th>tail</th>\n",
       "      <th>p-val</th>\n",
       "      <th>CI95%</th>\n",
       "      <th>cohen-d</th>\n",
       "      <th>BF10</th>\n",
       "      <th>power</th>\n",
       "    </tr>\n",
       "  </thead>\n",
       "  <tbody>\n",
       "    <tr>\n",
       "      <th>T-test</th>\n",
       "      <td>1.338377</td>\n",
       "      <td>49</td>\n",
       "      <td>two-sided</td>\n",
       "      <td>0.186951</td>\n",
       "      <td>[-0.04, 0.21]</td>\n",
       "      <td>0.210696</td>\n",
       "      <td>0.356</td>\n",
       "      <td>0.309106</td>\n",
       "    </tr>\n",
       "  </tbody>\n",
       "</table>\n",
       "</div>"
      ],
      "text/plain": [
       "               T  dof       tail     p-val          CI95%   cohen-d   BF10  \\\n",
       "T-test  1.338377   49  two-sided  0.186951  [-0.04, 0.21]  0.210696  0.356   \n",
       "\n",
       "           power  \n",
       "T-test  0.309106  "
      ]
     },
     "execution_count": 79,
     "metadata": {},
     "output_type": "execute_result"
    }
   ],
   "source": [
    "pg.ttest(p50means[p50means['expected']==1].dprime, \n",
    "         p50means[p50means['expected']==0].dprime, paired=True)"
   ]
  },
  {
   "cell_type": "code",
   "execution_count": 46,
   "id": "3d07c417",
   "metadata": {},
   "outputs": [
    {
     "data": {
      "text/html": [
       "<div>\n",
       "<style scoped>\n",
       "    .dataframe tbody tr th:only-of-type {\n",
       "        vertical-align: middle;\n",
       "    }\n",
       "\n",
       "    .dataframe tbody tr th {\n",
       "        vertical-align: top;\n",
       "    }\n",
       "\n",
       "    .dataframe thead th {\n",
       "        text-align: right;\n",
       "    }\n",
       "</style>\n",
       "<table border=\"1\" class=\"dataframe\">\n",
       "  <thead>\n",
       "    <tr style=\"text-align: right;\">\n",
       "      <th></th>\n",
       "      <th>T</th>\n",
       "      <th>dof</th>\n",
       "      <th>tail</th>\n",
       "      <th>p-val</th>\n",
       "      <th>CI95%</th>\n",
       "      <th>cohen-d</th>\n",
       "      <th>BF10</th>\n",
       "      <th>power</th>\n",
       "    </tr>\n",
       "  </thead>\n",
       "  <tbody>\n",
       "    <tr>\n",
       "      <th>T-test</th>\n",
       "      <td>3.069794</td>\n",
       "      <td>49</td>\n",
       "      <td>two-sided</td>\n",
       "      <td>0.003488</td>\n",
       "      <td>[0.06, 0.27]</td>\n",
       "      <td>0.552109</td>\n",
       "      <td>9.394</td>\n",
       "      <td>0.96901</td>\n",
       "    </tr>\n",
       "  </tbody>\n",
       "</table>\n",
       "</div>"
      ],
      "text/plain": [
       "               T  dof       tail     p-val         CI95%   cohen-d   BF10  \\\n",
       "T-test  3.069794   49  two-sided  0.003488  [0.06, 0.27]  0.552109  9.394   \n",
       "\n",
       "          power  \n",
       "T-test  0.96901  "
      ]
     },
     "execution_count": 46,
     "metadata": {},
     "output_type": "execute_result"
    }
   ],
   "source": [
    "pg.ttest(p50means[p50means['expected']==1].criterion, \n",
    "         p50means[p50means['expected']==0].criterion, paired=True)"
   ]
  },
  {
   "cell_type": "code",
   "execution_count": 47,
   "id": "4cc01c64",
   "metadata": {},
   "outputs": [
    {
     "data": {
      "image/png": "[encoded data removed]",
      "text/plain": [
       "<Figure size 700x1000 with 1 Axes>"
      ]
     },
     "metadata": {},
     "output_type": "display_data"
    }
   ],
   "source": [
    "make_pretty_plot(p50means, measure='hit', cloudplot=False, saveimg=True)"
   ]
  },
  {
   "cell_type": "code",
   "execution_count": 58,
   "id": "d11f56e8",
   "metadata": {},
   "outputs": [
    {
     "data": {
      "image/png": "[encoded data removed]",
      "text/plain": [
       "<Figure size 700x1000 with 1 Axes>"
      ]
     },
     "metadata": {},
     "output_type": "display_data"
    }
   ],
   "source": [
    "make_pretty_plot(p50means, measure='dprime', cloudplot=False, saveimg=True)"
   ]
  },
  {
   "cell_type": "code",
   "execution_count": 49,
   "id": "cecb78b0",
   "metadata": {},
   "outputs": [
    {
     "data": {
      "image/png": "[encoded data removed]",
      "text/plain": [
       "<Figure size 700x1000 with 1 Axes>"
      ]
     },
     "metadata": {},
     "output_type": "display_data"
    }
   ],
   "source": [
    "make_pretty_plot(p50means, measure='criterion', cloudplot=False, saveimg=True)"
   ]
  },
  {
   "attachments": {},
   "cell_type": "markdown",
   "id": "3d29c2ee",
   "metadata": {},
   "source": [
    "### Experiment 3"
   ]
  },
  {
   "cell_type": "code",
   "execution_count": 93,
   "id": "bc2dd062",
   "metadata": {},
   "outputs": [
    {
     "data": {
      "text/plain": [
       "mean    0.687947\n",
       "sem     0.007859\n",
       "Name: hit, dtype: float64"
      ]
     },
     "execution_count": 93,
     "metadata": {},
     "output_type": "execute_result"
    }
   ],
   "source": [
    "p25_overall = p25data.groupby(['subject']).mean().reset_index()\n",
    "p25_overall['hit'].agg(['mean', 'sem'])"
   ]
  },
  {
   "cell_type": "code",
   "execution_count": 94,
   "id": "ec225e0e",
   "metadata": {},
   "outputs": [
    {
     "data": {
      "text/plain": [
       "0.12591689142354998"
      ]
     },
     "execution_count": 94,
     "metadata": {},
     "output_type": "execute_result"
    }
   ],
   "source": [
    "p25_overall['criterion'].mean()"
   ]
  },
  {
   "cell_type": "code",
   "execution_count": 95,
   "id": "d8cd40f1",
   "metadata": {},
   "outputs": [
    {
     "data": {
      "text/html": [
       "<div>\n",
       "<style scoped>\n",
       "    .dataframe tbody tr th:only-of-type {\n",
       "        vertical-align: middle;\n",
       "    }\n",
       "\n",
       "    .dataframe tbody tr th {\n",
       "        vertical-align: top;\n",
       "    }\n",
       "\n",
       "    .dataframe thead th {\n",
       "        text-align: right;\n",
       "    }\n",
       "</style>\n",
       "<table border=\"1\" class=\"dataframe\">\n",
       "  <thead>\n",
       "    <tr style=\"text-align: right;\">\n",
       "      <th></th>\n",
       "      <th>T</th>\n",
       "      <th>dof</th>\n",
       "      <th>tail</th>\n",
       "      <th>p-val</th>\n",
       "      <th>CI95%</th>\n",
       "      <th>cohen-d</th>\n",
       "      <th>BF10</th>\n",
       "      <th>power</th>\n",
       "    </tr>\n",
       "  </thead>\n",
       "  <tbody>\n",
       "    <tr>\n",
       "      <th>T-test</th>\n",
       "      <td>4.100477</td>\n",
       "      <td>50</td>\n",
       "      <td>two-sided</td>\n",
       "      <td>0.000151</td>\n",
       "      <td>[0.06, 0.19]</td>\n",
       "      <td>0.574182</td>\n",
       "      <td>156.061</td>\n",
       "      <td>0.980328</td>\n",
       "    </tr>\n",
       "  </tbody>\n",
       "</table>\n",
       "</div>"
      ],
      "text/plain": [
       "               T  dof       tail     p-val         CI95%   cohen-d     BF10  \\\n",
       "T-test  4.100477   50  two-sided  0.000151  [0.06, 0.19]  0.574182  156.061   \n",
       "\n",
       "           power  \n",
       "T-test  0.980328  "
      ]
     },
     "execution_count": 95,
     "metadata": {},
     "output_type": "execute_result"
    }
   ],
   "source": [
    "pg.ttest(p25_overall['criterion'], 0.0)"
   ]
  },
  {
   "cell_type": "code",
   "execution_count": 84,
   "id": "c2f787c0",
   "metadata": {},
   "outputs": [
    {
     "data": {
      "text/html": [
       "<div>\n",
       "<style scoped>\n",
       "    .dataframe tbody tr th:only-of-type {\n",
       "        vertical-align: middle;\n",
       "    }\n",
       "\n",
       "    .dataframe tbody tr th {\n",
       "        vertical-align: top;\n",
       "    }\n",
       "\n",
       "    .dataframe thead tr th {\n",
       "        text-align: left;\n",
       "    }\n",
       "\n",
       "    .dataframe thead tr:last-of-type th {\n",
       "        text-align: right;\n",
       "    }\n",
       "</style>\n",
       "<table border=\"1\" class=\"dataframe\">\n",
       "  <thead>\n",
       "    <tr>\n",
       "      <th></th>\n",
       "      <th colspan=\"2\" halign=\"left\">hit</th>\n",
       "      <th colspan=\"2\" halign=\"left\">dprime</th>\n",
       "      <th colspan=\"2\" halign=\"left\">criterion</th>\n",
       "    </tr>\n",
       "    <tr>\n",
       "      <th></th>\n",
       "      <th>mean</th>\n",
       "      <th>sem</th>\n",
       "      <th>mean</th>\n",
       "      <th>sem</th>\n",
       "      <th>mean</th>\n",
       "      <th>sem</th>\n",
       "    </tr>\n",
       "    <tr>\n",
       "      <th>expected</th>\n",
       "      <th></th>\n",
       "      <th></th>\n",
       "      <th></th>\n",
       "      <th></th>\n",
       "      <th></th>\n",
       "      <th></th>\n",
       "    </tr>\n",
       "  </thead>\n",
       "  <tbody>\n",
       "    <tr>\n",
       "      <th>0.0</th>\n",
       "      <td>0.684843</td>\n",
       "      <td>0.007955</td>\n",
       "      <td>0.986649</td>\n",
       "      <td>0.046958</td>\n",
       "      <td>0.083654</td>\n",
       "      <td>0.033940</td>\n",
       "    </tr>\n",
       "    <tr>\n",
       "      <th>1.0</th>\n",
       "      <td>0.697440</td>\n",
       "      <td>0.012094</td>\n",
       "      <td>1.066117</td>\n",
       "      <td>0.071671</td>\n",
       "      <td>0.252707</td>\n",
       "      <td>0.043569</td>\n",
       "    </tr>\n",
       "  </tbody>\n",
       "</table>\n",
       "</div>"
      ],
      "text/plain": [
       "               hit              dprime           criterion          \n",
       "              mean       sem      mean       sem      mean       sem\n",
       "expected                                                            \n",
       "0.0       0.684843  0.007955  0.986649  0.046958  0.083654  0.033940\n",
       "1.0       0.697440  0.012094  1.066117  0.071671  0.252707  0.043569"
      ]
     },
     "execution_count": 84,
     "metadata": {},
     "output_type": "execute_result"
    }
   ],
   "source": [
    "# Mean accuracy for congruent and incongruent trials\n",
    "p25means.groupby(['expected'])[['hit', 'dprime', 'criterion']].agg(['mean', 'sem'])"
   ]
  },
  {
   "cell_type": "code",
   "execution_count": 51,
   "id": "99a25332",
   "metadata": {},
   "outputs": [
    {
     "data": {
      "text/html": [
       "<div>\n",
       "<style scoped>\n",
       "    .dataframe tbody tr th:only-of-type {\n",
       "        vertical-align: middle;\n",
       "    }\n",
       "\n",
       "    .dataframe tbody tr th {\n",
       "        vertical-align: top;\n",
       "    }\n",
       "\n",
       "    .dataframe thead th {\n",
       "        text-align: right;\n",
       "    }\n",
       "</style>\n",
       "<table border=\"1\" class=\"dataframe\">\n",
       "  <thead>\n",
       "    <tr style=\"text-align: right;\">\n",
       "      <th></th>\n",
       "      <th>T</th>\n",
       "      <th>dof</th>\n",
       "      <th>tail</th>\n",
       "      <th>p-val</th>\n",
       "      <th>CI95%</th>\n",
       "      <th>cohen-d</th>\n",
       "      <th>BF10</th>\n",
       "      <th>power</th>\n",
       "    </tr>\n",
       "  </thead>\n",
       "  <tbody>\n",
       "    <tr>\n",
       "      <th>T-test</th>\n",
       "      <td>1.156226</td>\n",
       "      <td>50</td>\n",
       "      <td>two-sided</td>\n",
       "      <td>0.253084</td>\n",
       "      <td>[-0.01, 0.03]</td>\n",
       "      <td>0.172326</td>\n",
       "      <td>0.286</td>\n",
       "      <td>0.226533</td>\n",
       "    </tr>\n",
       "  </tbody>\n",
       "</table>\n",
       "</div>"
      ],
      "text/plain": [
       "               T  dof       tail     p-val          CI95%   cohen-d   BF10  \\\n",
       "T-test  1.156226   50  two-sided  0.253084  [-0.01, 0.03]  0.172326  0.286   \n",
       "\n",
       "           power  \n",
       "T-test  0.226533  "
      ]
     },
     "execution_count": 51,
     "metadata": {},
     "output_type": "execute_result"
    }
   ],
   "source": [
    "pg.ttest(p25means[p25means['expected']==1].hit, \n",
    "         p25means[p25means['expected']==0].hit, paired=True)"
   ]
  },
  {
   "cell_type": "code",
   "execution_count": 85,
   "id": "48825a7f",
   "metadata": {},
   "outputs": [
    {
     "data": {
      "text/html": [
       "<div>\n",
       "<style scoped>\n",
       "    .dataframe tbody tr th:only-of-type {\n",
       "        vertical-align: middle;\n",
       "    }\n",
       "\n",
       "    .dataframe tbody tr th {\n",
       "        vertical-align: top;\n",
       "    }\n",
       "\n",
       "    .dataframe thead th {\n",
       "        text-align: right;\n",
       "    }\n",
       "</style>\n",
       "<table border=\"1\" class=\"dataframe\">\n",
       "  <thead>\n",
       "    <tr style=\"text-align: right;\">\n",
       "      <th></th>\n",
       "      <th>T</th>\n",
       "      <th>dof</th>\n",
       "      <th>tail</th>\n",
       "      <th>p-val</th>\n",
       "      <th>CI95%</th>\n",
       "      <th>cohen-d</th>\n",
       "      <th>BF10</th>\n",
       "      <th>power</th>\n",
       "    </tr>\n",
       "  </thead>\n",
       "  <tbody>\n",
       "    <tr>\n",
       "      <th>T-test</th>\n",
       "      <td>1.199625</td>\n",
       "      <td>50</td>\n",
       "      <td>two-sided</td>\n",
       "      <td>0.235939</td>\n",
       "      <td>[-0.05, 0.21]</td>\n",
       "      <td>0.183664</td>\n",
       "      <td>0.3</td>\n",
       "      <td>0.250909</td>\n",
       "    </tr>\n",
       "  </tbody>\n",
       "</table>\n",
       "</div>"
      ],
      "text/plain": [
       "               T  dof       tail     p-val          CI95%   cohen-d BF10  \\\n",
       "T-test  1.199625   50  two-sided  0.235939  [-0.05, 0.21]  0.183664  0.3   \n",
       "\n",
       "           power  \n",
       "T-test  0.250909  "
      ]
     },
     "execution_count": 85,
     "metadata": {},
     "output_type": "execute_result"
    }
   ],
   "source": [
    "pg.ttest(p25means[p25means['expected']==1].dprime, \n",
    "         p25means[p25means['expected']==0].dprime, paired=True)"
   ]
  },
  {
   "cell_type": "code",
   "execution_count": 53,
   "id": "e55d4cf4",
   "metadata": {},
   "outputs": [
    {
     "data": {
      "text/html": [
       "<div>\n",
       "<style scoped>\n",
       "    .dataframe tbody tr th:only-of-type {\n",
       "        vertical-align: middle;\n",
       "    }\n",
       "\n",
       "    .dataframe tbody tr th {\n",
       "        vertical-align: top;\n",
       "    }\n",
       "\n",
       "    .dataframe thead th {\n",
       "        text-align: right;\n",
       "    }\n",
       "</style>\n",
       "<table border=\"1\" class=\"dataframe\">\n",
       "  <thead>\n",
       "    <tr style=\"text-align: right;\">\n",
       "      <th></th>\n",
       "      <th>T</th>\n",
       "      <th>dof</th>\n",
       "      <th>tail</th>\n",
       "      <th>p-val</th>\n",
       "      <th>CI95%</th>\n",
       "      <th>cohen-d</th>\n",
       "      <th>BF10</th>\n",
       "      <th>power</th>\n",
       "    </tr>\n",
       "  </thead>\n",
       "  <tbody>\n",
       "    <tr>\n",
       "      <th>T-test</th>\n",
       "      <td>3.680714</td>\n",
       "      <td>50</td>\n",
       "      <td>two-sided</td>\n",
       "      <td>0.00057</td>\n",
       "      <td>[0.08, 0.26]</td>\n",
       "      <td>0.606167</td>\n",
       "      <td>46.896</td>\n",
       "      <td>0.988826</td>\n",
       "    </tr>\n",
       "  </tbody>\n",
       "</table>\n",
       "</div>"
      ],
      "text/plain": [
       "               T  dof       tail    p-val         CI95%   cohen-d    BF10  \\\n",
       "T-test  3.680714   50  two-sided  0.00057  [0.08, 0.26]  0.606167  46.896   \n",
       "\n",
       "           power  \n",
       "T-test  0.988826  "
      ]
     },
     "execution_count": 53,
     "metadata": {},
     "output_type": "execute_result"
    }
   ],
   "source": [
    "pg.ttest(p25means[p25means['expected']==1].criterion, \n",
    "         p25means[p25means['expected']==0].criterion, paired=True)"
   ]
  },
  {
   "cell_type": "code",
   "execution_count": 54,
   "id": "2b32fa0b",
   "metadata": {},
   "outputs": [
    {
     "data": {
      "image/png": "[encoded data removed]",
      "text/plain": [
       "<Figure size 700x1000 with 1 Axes>"
      ]
     },
     "metadata": {},
     "output_type": "display_data"
    }
   ],
   "source": [
    "make_pretty_plot(p25means, measure='hit', cloudplot=False, saveimg=True)"
   ]
  },
  {
   "cell_type": "code",
   "execution_count": 59,
   "id": "44a6a512",
   "metadata": {},
   "outputs": [
    {
     "data": {
      "image/png": "[encoded data removed]",
      "text/plain": [
       "<Figure size 700x1000 with 1 Axes>"
      ]
     },
     "metadata": {},
     "output_type": "display_data"
    }
   ],
   "source": [
    "make_pretty_plot(p25means, measure='dprime', cloudplot=False, saveimg=True)"
   ]
  },
  {
   "cell_type": "code",
   "execution_count": 56,
   "id": "11ea33bc",
   "metadata": {},
   "outputs": [
    {
     "data": {
      "image/png": "[encoded data removed]",
      "text/plain": [
       "<Figure size 700x1000 with 1 Axes>"
      ]
     },
     "metadata": {},
     "output_type": "display_data"
    }
   ],
   "source": [
    "make_pretty_plot(p25means, measure='criterion', cloudplot=False, saveimg=True)"
   ]
  },
  {
   "attachments": {},
   "cell_type": "markdown",
   "id": "c83d15e6",
   "metadata": {},
   "source": [
    "### Probability-congruency interaction (across experiments)"
   ]
  },
  {
   "cell_type": "code",
   "execution_count": 96,
   "id": "a5d5c822",
   "metadata": {},
   "outputs": [
    {
     "data": {
      "text/plain": [
       "151"
      ]
     },
     "execution_count": 96,
     "metadata": {},
     "output_type": "execute_result"
    }
   ],
   "source": [
    "allmeans.subject.nunique()"
   ]
  },
  {
   "cell_type": "code",
   "execution_count": 97,
   "id": "96662704",
   "metadata": {},
   "outputs": [
    {
     "name": "stdout",
     "output_type": "stream",
     "text": [
      "\n",
      "=============\n",
      "ANOVA SUMMARY\n",
      "=============\n",
      "\n",
      "Source          SS    DF1    DF2     MS      F    p-unc    np2      eps\n",
      "-----------  -----  -----  -----  -----  -----  -------  -----  -------\n",
      "p_exp        0.025      2    148  0.013  1.954    0.145  0.026  nan\n",
      "expected     0.028      1    148  0.028  9.420    0.003  0.060    1.000\n",
      "Interaction  0.011      2    148  0.005  1.812    0.167  0.024  nan\n",
      "\n"
     ]
    }
   ],
   "source": [
    "aov = pg.mixed_anova(dv='hit', within='expected',\n",
    "                             between='p_exp',\n",
    "                             subject='subject', \n",
    "                             data=allmeans)\n",
    "pg.print_table(aov)"
   ]
  },
  {
   "cell_type": "code",
   "execution_count": 98,
   "id": "996188ed",
   "metadata": {},
   "outputs": [
    {
     "name": "stdout",
     "output_type": "stream",
     "text": [
      "\n",
      "=============\n",
      "ANOVA SUMMARY\n",
      "=============\n",
      "\n",
      "Source          SS    DF1    DF2     MS       F    p-unc    np2      eps\n",
      "-----------  -----  -----  -----  -----  ------  -------  -----  -------\n",
      "p_exp        0.794      2    148  0.397   1.782    0.172  0.024  nan\n",
      "expected     1.275      1    148  1.275  12.567    0.001  0.078    1.000\n",
      "Interaction  0.359      2    148  0.180   1.771    0.174  0.023  nan\n",
      "\n"
     ]
    }
   ],
   "source": [
    "aov = pg.mixed_anova(dv='dprime', within='expected',\n",
    "                             between='p_exp',\n",
    "                             subject='subject', \n",
    "                             data=allmeans)\n",
    "pg.print_table(aov)"
   ]
  },
  {
   "cell_type": "code",
   "execution_count": 99,
   "id": "22d47159",
   "metadata": {},
   "outputs": [
    {
     "name": "stdout",
     "output_type": "stream",
     "text": [
      "\n",
      "=============\n",
      "ANOVA SUMMARY\n",
      "=============\n",
      "\n",
      "Source          SS    DF1    DF2     MS       F    p-unc    np2      eps\n",
      "-----------  -----  -----  -----  -----  ------  -------  -----  -------\n",
      "p_exp        0.179      2    148  0.089   0.863    0.424  0.012  nan\n",
      "expected     2.626      1    148  2.626  41.732    0.000  0.220    1.000\n",
      "Interaction  0.061      2    148  0.030   0.484    0.617  0.006  nan\n",
      "\n"
     ]
    }
   ],
   "source": [
    "aov = pg.mixed_anova(dv='criterion', within='expected',\n",
    "                             between='p_exp',\n",
    "                             subject='subject', \n",
    "                             data=allmeans)\n",
    "pg.print_table(aov)"
   ]
  },
  {
   "cell_type": "code",
   "execution_count": 23,
   "id": "15aae2c2",
   "metadata": {},
   "outputs": [],
   "source": [
    "allhitdiffs = []\n",
    "allpexp = []\n",
    "for pe in allmeans.p_exp.unique():\n",
    "    thesediffs = list(allmeans[(allmeans['p_exp']==pe)&(allmeans['expected']==1)].hit.values - \\\n",
    "        allmeans[(allmeans['p_exp']==pe)&(allmeans['expected']==0)].hit.values)\n",
    "    allhitdiffs.extend(thesediffs)\n",
    "    allpexp.extend([pe] * len(thesediffs))\n",
    "allhitdiffs = pd.DataFrame(list(zip(allpexp, allhitdiffs)), columns =['p_exp', 'diff'])"
   ]
  },
  {
   "cell_type": "code",
   "execution_count": null,
   "id": "430530d2",
   "metadata": {},
   "outputs": [],
   "source": [
    "# Pairwise tests\n",
    "pairwisepvals = []\n",
    "for pair in [[0.75, 0.5], [0.75, 0.25], [0.5, 0.25]]:\n",
    "    tstats = pg.ttest(allhitdiffs[allhitdiffs['p_exp']==pair[0]]['diff'], allhitdiffs[allhitdiffs['p_exp']==pair[1]]['diff'])\n",
    "    print(f\"{pair[0]} vs. {pair[1]}\")\n",
    "    print('===================')\n",
    "    pg.print_table(tstats)\n",
    "    pairwisepvals.append(tstats['p-val'])\n",
    "    print('-------------------')"
   ]
  },
  {
   "cell_type": "code",
   "execution_count": null,
   "id": "9c8f4890",
   "metadata": {},
   "outputs": [],
   "source": [
    "# Correct for multiple comparisons\n",
    "pg.multicomp(pairwisepvals, method='bonf')"
   ]
  },
  {
   "cell_type": "markdown",
   "id": "95444291",
   "metadata": {},
   "source": [
    "### Criterion-d' correlation"
   ]
  },
  {
   "cell_type": "code",
   "execution_count": null,
   "id": "9bf585d3",
   "metadata": {},
   "outputs": [],
   "source": [
    "sns.scatterplot(allmeans['hit'], allmeans['criterion'])\n",
    "plt.show()"
   ]
  },
  {
   "cell_type": "code",
   "execution_count": null,
   "id": "d9067b0c",
   "metadata": {},
   "outputs": [],
   "source": [
    "pearsonr(p75means['hit'], p75means['criterion'])"
   ]
  },
  {
   "cell_type": "code",
   "execution_count": null,
   "id": "39a3319d",
   "metadata": {},
   "outputs": [],
   "source": [
    "pearsonr(p75means['hit'], p75means['criterion'])"
   ]
  },
  {
   "cell_type": "code",
   "execution_count": null,
   "id": "4d1a6dbe",
   "metadata": {},
   "outputs": [],
   "source": [
    "allmeans"
   ]
  },
  {
   "cell_type": "code",
   "execution_count": null,
   "id": "a6509ee0",
   "metadata": {},
   "outputs": [],
   "source": [
    "sns.scatterplot(x='dprime', y='criterion', hue='p_exp', \n",
    "                hue_order=[0.75, 0.5, 0.25], data=allmeans[allmeans['expected']==1], palette='Set1')\n",
    "plt.show()"
   ]
  },
  {
   "cell_type": "code",
   "execution_count": null,
   "id": "bee59f7d",
   "metadata": {},
   "outputs": [],
   "source": [
    "sns.scatterplot(x='dprime', y='criterion', data=allmeans[allmeans['expected']==0], palette='Set1')\n",
    "plt.show()"
   ]
  },
  {
   "cell_type": "code",
   "execution_count": null,
   "id": "7c99307b",
   "metadata": {},
   "outputs": [],
   "source": [
    "pearsonr(allmeans[allmeans['expected']==1]['dprime'], allmeans[allmeans['expected']==1]['criterion'])"
   ]
  },
  {
   "cell_type": "code",
   "execution_count": null,
   "id": "95fd0e36",
   "metadata": {},
   "outputs": [],
   "source": [
    "pearsonr(allmeans[allmeans['expected']==0]['dprime'], allmeans[allmeans['expected']==0]['criterion'])"
   ]
  },
  {
   "cell_type": "code",
   "execution_count": null,
   "id": "a7cf2d29",
   "metadata": {},
   "outputs": [],
   "source": [
    "pearsonr(allmeans[allmeans['expected']==1]['hit'], allmeans[allmeans['expected']==1]['criterion'])"
   ]
  },
  {
   "cell_type": "code",
   "execution_count": null,
   "id": "cd3e5920",
   "metadata": {},
   "outputs": [],
   "source": [
    "pearsonr(allmeans[allmeans['expected']==0]['hit'], allmeans[allmeans['expected']==0]['criterion'])"
   ]
  },
  {
   "cell_type": "code",
   "execution_count": null,
   "id": "aedae6dd",
   "metadata": {},
   "outputs": [],
   "source": [
    "sns.scatterplot(allmeans['hit'], allmeans['dprime'])\n",
    "plt.show()"
   ]
  },
  {
   "cell_type": "code",
   "execution_count": null,
   "id": "3a792961",
   "metadata": {},
   "outputs": [],
   "source": [
    "pearsonr(allmeans['hit'], allmeans['dprime'])"
   ]
  },
  {
   "attachments": {},
   "cell_type": "markdown",
   "id": "fca50db4",
   "metadata": {},
   "source": [
    "## Supplemental analyses"
   ]
  },
  {
   "attachments": {},
   "cell_type": "markdown",
   "id": "0dbffb45",
   "metadata": {},
   "source": [
    "### Results without exclusions"
   ]
  },
  {
   "cell_type": "code",
   "execution_count": 100,
   "id": "8e9afee7",
   "metadata": {},
   "outputs": [],
   "source": [
    "allsubjdata_noexcl = compute_dprimes(allsubjdata_noexcl)\n",
    "p75means_noexcl = allsubjdata_noexcl[allsubjdata_noexcl['p_exp']==0.75].groupby(\n",
    "    ['subject', 'expected']).mean().reset_index()\n",
    "p50means_noexcl = allsubjdata_noexcl[allsubjdata_noexcl['p_exp']==0.5].groupby(\n",
    "    ['subject', 'expected']).mean().reset_index()\n",
    "p25means_noexcl = allsubjdata_noexcl[allsubjdata_noexcl['p_exp']==0.25].groupby(\n",
    "    ['subject', 'expected']).mean().reset_index()\n",
    "allmeans_noexcl = allsubjdata_noexcl.groupby([\n",
    "    'subject', 'expected', 'p_exp']).mean().reset_index()"
   ]
  },
  {
   "attachments": {},
   "cell_type": "markdown",
   "id": "e8552119",
   "metadata": {},
   "source": [
    "Experiment 1"
   ]
  },
  {
   "cell_type": "code",
   "execution_count": 101,
   "id": "70f0bc0d",
   "metadata": {},
   "outputs": [
    {
     "data": {
      "text/html": [
       "<div>\n",
       "<style scoped>\n",
       "    .dataframe tbody tr th:only-of-type {\n",
       "        vertical-align: middle;\n",
       "    }\n",
       "\n",
       "    .dataframe tbody tr th {\n",
       "        vertical-align: top;\n",
       "    }\n",
       "\n",
       "    .dataframe thead tr th {\n",
       "        text-align: left;\n",
       "    }\n",
       "\n",
       "    .dataframe thead tr:last-of-type th {\n",
       "        text-align: right;\n",
       "    }\n",
       "</style>\n",
       "<table border=\"1\" class=\"dataframe\">\n",
       "  <thead>\n",
       "    <tr>\n",
       "      <th></th>\n",
       "      <th colspan=\"2\" halign=\"left\">hit</th>\n",
       "    </tr>\n",
       "    <tr>\n",
       "      <th></th>\n",
       "      <th>mean</th>\n",
       "      <th>sem</th>\n",
       "    </tr>\n",
       "    <tr>\n",
       "      <th>expected</th>\n",
       "      <th></th>\n",
       "      <th></th>\n",
       "    </tr>\n",
       "  </thead>\n",
       "  <tbody>\n",
       "    <tr>\n",
       "      <th>0.0</th>\n",
       "      <td>0.575588</td>\n",
       "      <td>0.010948</td>\n",
       "    </tr>\n",
       "    <tr>\n",
       "      <th>1.0</th>\n",
       "      <td>0.602094</td>\n",
       "      <td>0.010304</td>\n",
       "    </tr>\n",
       "  </tbody>\n",
       "</table>\n",
       "</div>"
      ],
      "text/plain": [
       "               hit          \n",
       "              mean       sem\n",
       "expected                    \n",
       "0.0       0.575588  0.010948\n",
       "1.0       0.602094  0.010304"
      ]
     },
     "execution_count": 101,
     "metadata": {},
     "output_type": "execute_result"
    }
   ],
   "source": [
    "p75means_noexcl.groupby(['expected'])[['hit']].agg(['mean', 'sem'])"
   ]
  },
  {
   "cell_type": "code",
   "execution_count": 102,
   "id": "19c78b31",
   "metadata": {},
   "outputs": [
    {
     "data": {
      "text/html": [
       "<div>\n",
       "<style scoped>\n",
       "    .dataframe tbody tr th:only-of-type {\n",
       "        vertical-align: middle;\n",
       "    }\n",
       "\n",
       "    .dataframe tbody tr th {\n",
       "        vertical-align: top;\n",
       "    }\n",
       "\n",
       "    .dataframe thead th {\n",
       "        text-align: right;\n",
       "    }\n",
       "</style>\n",
       "<table border=\"1\" class=\"dataframe\">\n",
       "  <thead>\n",
       "    <tr style=\"text-align: right;\">\n",
       "      <th></th>\n",
       "      <th>T</th>\n",
       "      <th>dof</th>\n",
       "      <th>tail</th>\n",
       "      <th>p-val</th>\n",
       "      <th>CI95%</th>\n",
       "      <th>cohen-d</th>\n",
       "      <th>BF10</th>\n",
       "      <th>power</th>\n",
       "    </tr>\n",
       "  </thead>\n",
       "  <tbody>\n",
       "    <tr>\n",
       "      <th>T-test</th>\n",
       "      <td>3.326241</td>\n",
       "      <td>96</td>\n",
       "      <td>two-sided</td>\n",
       "      <td>0.001248</td>\n",
       "      <td>[0.01, 0.04]</td>\n",
       "      <td>0.253164</td>\n",
       "      <td>18.398</td>\n",
       "      <td>0.694418</td>\n",
       "    </tr>\n",
       "  </tbody>\n",
       "</table>\n",
       "</div>"
      ],
      "text/plain": [
       "               T  dof       tail     p-val         CI95%   cohen-d    BF10  \\\n",
       "T-test  3.326241   96  two-sided  0.001248  [0.01, 0.04]  0.253164  18.398   \n",
       "\n",
       "           power  \n",
       "T-test  0.694418  "
      ]
     },
     "execution_count": 102,
     "metadata": {},
     "output_type": "execute_result"
    }
   ],
   "source": [
    "pg.ttest(p75means_noexcl[p75means_noexcl['expected']==1].hit, \n",
    "         p75means_noexcl[p75means_noexcl['expected']==0].hit, paired=True)"
   ]
  },
  {
   "cell_type": "code",
   "execution_count": 103,
   "id": "111edb5d",
   "metadata": {},
   "outputs": [
    {
     "data": {
      "text/html": [
       "<div>\n",
       "<style scoped>\n",
       "    .dataframe tbody tr th:only-of-type {\n",
       "        vertical-align: middle;\n",
       "    }\n",
       "\n",
       "    .dataframe tbody tr th {\n",
       "        vertical-align: top;\n",
       "    }\n",
       "\n",
       "    .dataframe thead th {\n",
       "        text-align: right;\n",
       "    }\n",
       "</style>\n",
       "<table border=\"1\" class=\"dataframe\">\n",
       "  <thead>\n",
       "    <tr style=\"text-align: right;\">\n",
       "      <th></th>\n",
       "      <th>T</th>\n",
       "      <th>dof</th>\n",
       "      <th>tail</th>\n",
       "      <th>p-val</th>\n",
       "      <th>CI95%</th>\n",
       "      <th>cohen-d</th>\n",
       "      <th>BF10</th>\n",
       "      <th>power</th>\n",
       "    </tr>\n",
       "  </thead>\n",
       "  <tbody>\n",
       "    <tr>\n",
       "      <th>T-test</th>\n",
       "      <td>3.559923</td>\n",
       "      <td>96</td>\n",
       "      <td>two-sided</td>\n",
       "      <td>0.000579</td>\n",
       "      <td>[0.07, 0.25]</td>\n",
       "      <td>0.28099</td>\n",
       "      <td>36.985</td>\n",
       "      <td>0.782213</td>\n",
       "    </tr>\n",
       "  </tbody>\n",
       "</table>\n",
       "</div>"
      ],
      "text/plain": [
       "               T  dof       tail     p-val         CI95%  cohen-d    BF10  \\\n",
       "T-test  3.559923   96  two-sided  0.000579  [0.07, 0.25]  0.28099  36.985   \n",
       "\n",
       "           power  \n",
       "T-test  0.782213  "
      ]
     },
     "execution_count": 103,
     "metadata": {},
     "output_type": "execute_result"
    }
   ],
   "source": [
    "pg.ttest(p75means_noexcl[p75means_noexcl['expected']==1].dprime, \n",
    "         p75means_noexcl[p75means_noexcl['expected']==0].dprime, paired=True)"
   ]
  },
  {
   "cell_type": "code",
   "execution_count": 104,
   "id": "24c817e6",
   "metadata": {},
   "outputs": [
    {
     "data": {
      "text/html": [
       "<div>\n",
       "<style scoped>\n",
       "    .dataframe tbody tr th:only-of-type {\n",
       "        vertical-align: middle;\n",
       "    }\n",
       "\n",
       "    .dataframe tbody tr th {\n",
       "        vertical-align: top;\n",
       "    }\n",
       "\n",
       "    .dataframe thead th {\n",
       "        text-align: right;\n",
       "    }\n",
       "</style>\n",
       "<table border=\"1\" class=\"dataframe\">\n",
       "  <thead>\n",
       "    <tr style=\"text-align: right;\">\n",
       "      <th></th>\n",
       "      <th>T</th>\n",
       "      <th>dof</th>\n",
       "      <th>tail</th>\n",
       "      <th>p-val</th>\n",
       "      <th>CI95%</th>\n",
       "      <th>cohen-d</th>\n",
       "      <th>BF10</th>\n",
       "      <th>power</th>\n",
       "    </tr>\n",
       "  </thead>\n",
       "  <tbody>\n",
       "    <tr>\n",
       "      <th>T-test</th>\n",
       "      <td>6.1498</td>\n",
       "      <td>96</td>\n",
       "      <td>two-sided</td>\n",
       "      <td>1.776087e-08</td>\n",
       "      <td>[0.17, 0.33]</td>\n",
       "      <td>0.767688</td>\n",
       "      <td>6.428e+05</td>\n",
       "      <td>1.0</td>\n",
       "    </tr>\n",
       "  </tbody>\n",
       "</table>\n",
       "</div>"
      ],
      "text/plain": [
       "             T  dof       tail         p-val         CI95%   cohen-d  \\\n",
       "T-test  6.1498   96  two-sided  1.776087e-08  [0.17, 0.33]  0.767688   \n",
       "\n",
       "             BF10  power  \n",
       "T-test  6.428e+05    1.0  "
      ]
     },
     "execution_count": 104,
     "metadata": {},
     "output_type": "execute_result"
    }
   ],
   "source": [
    "pg.ttest(p75means_noexcl[p75means_noexcl['expected']==1].criterion, \n",
    "         p75means_noexcl[p75means_noexcl['expected']==0].criterion, paired=True)"
   ]
  },
  {
   "cell_type": "code",
   "execution_count": 105,
   "id": "2ebe183f",
   "metadata": {},
   "outputs": [
    {
     "data": {
      "image/png": "[encoded data removed]",
      "text/plain": [
       "<Figure size 700x1000 with 1 Axes>"
      ]
     },
     "metadata": {},
     "output_type": "display_data"
    }
   ],
   "source": [
    "make_pretty_plot(p75means_noexcl, measure='hit', excl=False, saveimg=True)"
   ]
  },
  {
   "cell_type": "code",
   "execution_count": 106,
   "id": "b45ff07f",
   "metadata": {},
   "outputs": [
    {
     "data": {
      "image/png": "[encoded data removed]",
      "text/plain": [
       "<Figure size 700x1000 with 1 Axes>"
      ]
     },
     "metadata": {},
     "output_type": "display_data"
    }
   ],
   "source": [
    "make_pretty_plot(p75means_noexcl, measure='dprime', excl=False, saveimg=True)"
   ]
  },
  {
   "cell_type": "code",
   "execution_count": 107,
   "id": "3afca384",
   "metadata": {},
   "outputs": [
    {
     "data": {
      "image/png": "[encoded data removed]",
      "text/plain": [
       "<Figure size 700x1000 with 1 Axes>"
      ]
     },
     "metadata": {},
     "output_type": "display_data"
    }
   ],
   "source": [
    "make_pretty_plot(p75means_noexcl, measure='criterion', excl=False, saveimg=True)"
   ]
  },
  {
   "attachments": {},
   "cell_type": "markdown",
   "id": "fc3bd74e",
   "metadata": {},
   "source": [
    "## Experiment 2"
   ]
  },
  {
   "cell_type": "code",
   "execution_count": 108,
   "id": "ebaeeb63",
   "metadata": {},
   "outputs": [
    {
     "data": {
      "text/html": [
       "<div>\n",
       "<style scoped>\n",
       "    .dataframe tbody tr th:only-of-type {\n",
       "        vertical-align: middle;\n",
       "    }\n",
       "\n",
       "    .dataframe tbody tr th {\n",
       "        vertical-align: top;\n",
       "    }\n",
       "\n",
       "    .dataframe thead tr th {\n",
       "        text-align: left;\n",
       "    }\n",
       "\n",
       "    .dataframe thead tr:last-of-type th {\n",
       "        text-align: right;\n",
       "    }\n",
       "</style>\n",
       "<table border=\"1\" class=\"dataframe\">\n",
       "  <thead>\n",
       "    <tr>\n",
       "      <th></th>\n",
       "      <th colspan=\"2\" halign=\"left\">hit</th>\n",
       "      <th colspan=\"2\" halign=\"left\">dprime</th>\n",
       "      <th colspan=\"2\" halign=\"left\">criterion</th>\n",
       "    </tr>\n",
       "    <tr>\n",
       "      <th></th>\n",
       "      <th>mean</th>\n",
       "      <th>sem</th>\n",
       "      <th>mean</th>\n",
       "      <th>sem</th>\n",
       "      <th>mean</th>\n",
       "      <th>sem</th>\n",
       "    </tr>\n",
       "    <tr>\n",
       "      <th>expected</th>\n",
       "      <th></th>\n",
       "      <th></th>\n",
       "      <th></th>\n",
       "      <th></th>\n",
       "      <th></th>\n",
       "      <th></th>\n",
       "    </tr>\n",
       "  </thead>\n",
       "  <tbody>\n",
       "    <tr>\n",
       "      <th>0.0</th>\n",
       "      <td>0.606319</td>\n",
       "      <td>0.010897</td>\n",
       "      <td>0.561240</td>\n",
       "      <td>0.059403</td>\n",
       "      <td>-0.023710</td>\n",
       "      <td>0.034881</td>\n",
       "    </tr>\n",
       "    <tr>\n",
       "      <th>1.0</th>\n",
       "      <td>0.611007</td>\n",
       "      <td>0.011315</td>\n",
       "      <td>0.608328</td>\n",
       "      <td>0.063319</td>\n",
       "      <td>0.166813</td>\n",
       "      <td>0.037951</td>\n",
       "    </tr>\n",
       "  </tbody>\n",
       "</table>\n",
       "</div>"
      ],
      "text/plain": [
       "               hit              dprime           criterion          \n",
       "              mean       sem      mean       sem      mean       sem\n",
       "expected                                                            \n",
       "0.0       0.606319  0.010897  0.561240  0.059403 -0.023710  0.034881\n",
       "1.0       0.611007  0.011315  0.608328  0.063319  0.166813  0.037951"
      ]
     },
     "execution_count": 108,
     "metadata": {},
     "output_type": "execute_result"
    }
   ],
   "source": [
    "p50means_noexcl.groupby(['expected'])[['hit', 'dprime', 'criterion']].agg(['mean', 'sem'])"
   ]
  },
  {
   "cell_type": "code",
   "execution_count": 109,
   "id": "c0c98997",
   "metadata": {},
   "outputs": [
    {
     "data": {
      "text/html": [
       "<div>\n",
       "<style scoped>\n",
       "    .dataframe tbody tr th:only-of-type {\n",
       "        vertical-align: middle;\n",
       "    }\n",
       "\n",
       "    .dataframe tbody tr th {\n",
       "        vertical-align: top;\n",
       "    }\n",
       "\n",
       "    .dataframe thead th {\n",
       "        text-align: right;\n",
       "    }\n",
       "</style>\n",
       "<table border=\"1\" class=\"dataframe\">\n",
       "  <thead>\n",
       "    <tr style=\"text-align: right;\">\n",
       "      <th></th>\n",
       "      <th>T</th>\n",
       "      <th>dof</th>\n",
       "      <th>tail</th>\n",
       "      <th>p-val</th>\n",
       "      <th>CI95%</th>\n",
       "      <th>cohen-d</th>\n",
       "      <th>BF10</th>\n",
       "      <th>power</th>\n",
       "    </tr>\n",
       "  </thead>\n",
       "  <tbody>\n",
       "    <tr>\n",
       "      <th>T-test</th>\n",
       "      <td>0.620478</td>\n",
       "      <td>86</td>\n",
       "      <td>two-sided</td>\n",
       "      <td>0.536584</td>\n",
       "      <td>[-0.01, 0.02]</td>\n",
       "      <td>0.045254</td>\n",
       "      <td>0.143</td>\n",
       "      <td>0.070188</td>\n",
       "    </tr>\n",
       "  </tbody>\n",
       "</table>\n",
       "</div>"
      ],
      "text/plain": [
       "               T  dof       tail     p-val          CI95%   cohen-d   BF10  \\\n",
       "T-test  0.620478   86  two-sided  0.536584  [-0.01, 0.02]  0.045254  0.143   \n",
       "\n",
       "           power  \n",
       "T-test  0.070188  "
      ]
     },
     "execution_count": 109,
     "metadata": {},
     "output_type": "execute_result"
    }
   ],
   "source": [
    "pg.ttest(p50means_noexcl[p50means_noexcl['expected']==1].hit, \n",
    "         p50means_noexcl[p50means_noexcl['expected']==0].hit, paired=True)"
   ]
  },
  {
   "cell_type": "code",
   "execution_count": 110,
   "id": "f058ef42",
   "metadata": {},
   "outputs": [
    {
     "data": {
      "text/html": [
       "<div>\n",
       "<style scoped>\n",
       "    .dataframe tbody tr th:only-of-type {\n",
       "        vertical-align: middle;\n",
       "    }\n",
       "\n",
       "    .dataframe tbody tr th {\n",
       "        vertical-align: top;\n",
       "    }\n",
       "\n",
       "    .dataframe thead th {\n",
       "        text-align: right;\n",
       "    }\n",
       "</style>\n",
       "<table border=\"1\" class=\"dataframe\">\n",
       "  <thead>\n",
       "    <tr style=\"text-align: right;\">\n",
       "      <th></th>\n",
       "      <th>T</th>\n",
       "      <th>dof</th>\n",
       "      <th>tail</th>\n",
       "      <th>p-val</th>\n",
       "      <th>CI95%</th>\n",
       "      <th>cohen-d</th>\n",
       "      <th>BF10</th>\n",
       "      <th>power</th>\n",
       "    </tr>\n",
       "  </thead>\n",
       "  <tbody>\n",
       "    <tr>\n",
       "      <th>T-test</th>\n",
       "      <td>1.087492</td>\n",
       "      <td>86</td>\n",
       "      <td>two-sided</td>\n",
       "      <td>0.279858</td>\n",
       "      <td>[-0.04, 0.13]</td>\n",
       "      <td>0.082231</td>\n",
       "      <td>0.209</td>\n",
       "      <td>0.118058</td>\n",
       "    </tr>\n",
       "  </tbody>\n",
       "</table>\n",
       "</div>"
      ],
      "text/plain": [
       "               T  dof       tail     p-val          CI95%   cohen-d   BF10  \\\n",
       "T-test  1.087492   86  two-sided  0.279858  [-0.04, 0.13]  0.082231  0.209   \n",
       "\n",
       "           power  \n",
       "T-test  0.118058  "
      ]
     },
     "execution_count": 110,
     "metadata": {},
     "output_type": "execute_result"
    }
   ],
   "source": [
    "pg.ttest(p50means_noexcl[p50means_noexcl['expected']==1].dprime, \n",
    "         p50means_noexcl[p50means_noexcl['expected']==0].dprime, paired=True)"
   ]
  },
  {
   "cell_type": "code",
   "execution_count": 111,
   "id": "833aa80f",
   "metadata": {},
   "outputs": [
    {
     "data": {
      "text/html": [
       "<div>\n",
       "<style scoped>\n",
       "    .dataframe tbody tr th:only-of-type {\n",
       "        vertical-align: middle;\n",
       "    }\n",
       "\n",
       "    .dataframe tbody tr th {\n",
       "        vertical-align: top;\n",
       "    }\n",
       "\n",
       "    .dataframe thead th {\n",
       "        text-align: right;\n",
       "    }\n",
       "</style>\n",
       "<table border=\"1\" class=\"dataframe\">\n",
       "  <thead>\n",
       "    <tr style=\"text-align: right;\">\n",
       "      <th></th>\n",
       "      <th>T</th>\n",
       "      <th>dof</th>\n",
       "      <th>tail</th>\n",
       "      <th>p-val</th>\n",
       "      <th>CI95%</th>\n",
       "      <th>cohen-d</th>\n",
       "      <th>BF10</th>\n",
       "      <th>power</th>\n",
       "    </tr>\n",
       "  </thead>\n",
       "  <tbody>\n",
       "    <tr>\n",
       "      <th>T-test</th>\n",
       "      <td>4.618628</td>\n",
       "      <td>86</td>\n",
       "      <td>two-sided</td>\n",
       "      <td>0.000013</td>\n",
       "      <td>[0.11, 0.27]</td>\n",
       "      <td>0.560416</td>\n",
       "      <td>1248.924</td>\n",
       "      <td>0.999332</td>\n",
       "    </tr>\n",
       "  </tbody>\n",
       "</table>\n",
       "</div>"
      ],
      "text/plain": [
       "               T  dof       tail     p-val         CI95%   cohen-d      BF10  \\\n",
       "T-test  4.618628   86  two-sided  0.000013  [0.11, 0.27]  0.560416  1248.924   \n",
       "\n",
       "           power  \n",
       "T-test  0.999332  "
      ]
     },
     "execution_count": 111,
     "metadata": {},
     "output_type": "execute_result"
    }
   ],
   "source": [
    "pg.ttest(p50means_noexcl[p50means_noexcl['expected']==1].criterion, \n",
    "         p50means_noexcl[p50means_noexcl['expected']==0].criterion, paired=True)"
   ]
  },
  {
   "cell_type": "code",
   "execution_count": 112,
   "id": "9c03a468",
   "metadata": {},
   "outputs": [
    {
     "data": {
      "image/png": "[encoded data removed]",
      "text/plain": [
       "<Figure size 700x1000 with 1 Axes>"
      ]
     },
     "metadata": {},
     "output_type": "display_data"
    }
   ],
   "source": [
    "make_pretty_plot(p50means_noexcl, measure='hit', excl=False, saveimg=True)"
   ]
  },
  {
   "cell_type": "code",
   "execution_count": 113,
   "id": "a7fcda69",
   "metadata": {},
   "outputs": [
    {
     "data": {
      "image/png": "[encoded data removed]",
      "text/plain": [
       "<Figure size 700x1000 with 1 Axes>"
      ]
     },
     "metadata": {},
     "output_type": "display_data"
    }
   ],
   "source": [
    "make_pretty_plot(p50means_noexcl, measure='dprime', excl=False, saveimg=True)"
   ]
  },
  {
   "cell_type": "code",
   "execution_count": 114,
   "id": "afa6e782",
   "metadata": {},
   "outputs": [
    {
     "data": {
      "image/png": "[encoded data removed]",
      "text/plain": [
       "<Figure size 700x1000 with 1 Axes>"
      ]
     },
     "metadata": {},
     "output_type": "display_data"
    }
   ],
   "source": [
    "make_pretty_plot(p50means_noexcl, measure='criterion', excl=False, saveimg=True)"
   ]
  },
  {
   "attachments": {},
   "cell_type": "markdown",
   "id": "caf0f569",
   "metadata": {},
   "source": [
    "## Experiment 3"
   ]
  },
  {
   "cell_type": "code",
   "execution_count": 115,
   "id": "e8603e8f",
   "metadata": {},
   "outputs": [
    {
     "data": {
      "text/html": [
       "<div>\n",
       "<style scoped>\n",
       "    .dataframe tbody tr th:only-of-type {\n",
       "        vertical-align: middle;\n",
       "    }\n",
       "\n",
       "    .dataframe tbody tr th {\n",
       "        vertical-align: top;\n",
       "    }\n",
       "\n",
       "    .dataframe thead tr th {\n",
       "        text-align: left;\n",
       "    }\n",
       "\n",
       "    .dataframe thead tr:last-of-type th {\n",
       "        text-align: right;\n",
       "    }\n",
       "</style>\n",
       "<table border=\"1\" class=\"dataframe\">\n",
       "  <thead>\n",
       "    <tr>\n",
       "      <th></th>\n",
       "      <th colspan=\"2\" halign=\"left\">hit</th>\n",
       "      <th colspan=\"2\" halign=\"left\">dprime</th>\n",
       "      <th colspan=\"2\" halign=\"left\">criterion</th>\n",
       "    </tr>\n",
       "    <tr>\n",
       "      <th></th>\n",
       "      <th>mean</th>\n",
       "      <th>sem</th>\n",
       "      <th>mean</th>\n",
       "      <th>sem</th>\n",
       "      <th>mean</th>\n",
       "      <th>sem</th>\n",
       "    </tr>\n",
       "    <tr>\n",
       "      <th>expected</th>\n",
       "      <th></th>\n",
       "      <th></th>\n",
       "      <th></th>\n",
       "      <th></th>\n",
       "      <th></th>\n",
       "      <th></th>\n",
       "    </tr>\n",
       "  </thead>\n",
       "  <tbody>\n",
       "    <tr>\n",
       "      <th>0.0</th>\n",
       "      <td>0.602704</td>\n",
       "      <td>0.010765</td>\n",
       "      <td>0.544691</td>\n",
       "      <td>0.058764</td>\n",
       "      <td>0.029747</td>\n",
       "      <td>0.027191</td>\n",
       "    </tr>\n",
       "    <tr>\n",
       "      <th>1.0</th>\n",
       "      <td>0.599965</td>\n",
       "      <td>0.013794</td>\n",
       "      <td>0.530960</td>\n",
       "      <td>0.076264</td>\n",
       "      <td>0.198373</td>\n",
       "      <td>0.039064</td>\n",
       "    </tr>\n",
       "  </tbody>\n",
       "</table>\n",
       "</div>"
      ],
      "text/plain": [
       "               hit              dprime           criterion          \n",
       "              mean       sem      mean       sem      mean       sem\n",
       "expected                                                            \n",
       "0.0       0.602704  0.010765  0.544691  0.058764  0.029747  0.027191\n",
       "1.0       0.599965  0.013794  0.530960  0.076264  0.198373  0.039064"
      ]
     },
     "execution_count": 115,
     "metadata": {},
     "output_type": "execute_result"
    }
   ],
   "source": [
    "p25means_noexcl.groupby(['expected'])[['hit', 'dprime', 'criterion']].agg(['mean', 'sem'])"
   ]
  },
  {
   "cell_type": "code",
   "execution_count": 116,
   "id": "bc9f7201",
   "metadata": {},
   "outputs": [
    {
     "data": {
      "text/html": [
       "<div>\n",
       "<style scoped>\n",
       "    .dataframe tbody tr th:only-of-type {\n",
       "        vertical-align: middle;\n",
       "    }\n",
       "\n",
       "    .dataframe tbody tr th {\n",
       "        vertical-align: top;\n",
       "    }\n",
       "\n",
       "    .dataframe thead th {\n",
       "        text-align: right;\n",
       "    }\n",
       "</style>\n",
       "<table border=\"1\" class=\"dataframe\">\n",
       "  <thead>\n",
       "    <tr style=\"text-align: right;\">\n",
       "      <th></th>\n",
       "      <th>T</th>\n",
       "      <th>dof</th>\n",
       "      <th>tail</th>\n",
       "      <th>p-val</th>\n",
       "      <th>CI95%</th>\n",
       "      <th>cohen-d</th>\n",
       "      <th>BF10</th>\n",
       "      <th>power</th>\n",
       "    </tr>\n",
       "  </thead>\n",
       "  <tbody>\n",
       "    <tr>\n",
       "      <th>T-test</th>\n",
       "      <td>-0.33263</td>\n",
       "      <td>92</td>\n",
       "      <td>two-sided</td>\n",
       "      <td>0.74017</td>\n",
       "      <td>[-0.02, 0.01]</td>\n",
       "      <td>0.022955</td>\n",
       "      <td>0.121</td>\n",
       "      <td>0.055515</td>\n",
       "    </tr>\n",
       "  </tbody>\n",
       "</table>\n",
       "</div>"
      ],
      "text/plain": [
       "              T  dof       tail    p-val          CI95%   cohen-d   BF10  \\\n",
       "T-test -0.33263   92  two-sided  0.74017  [-0.02, 0.01]  0.022955  0.121   \n",
       "\n",
       "           power  \n",
       "T-test  0.055515  "
      ]
     },
     "execution_count": 116,
     "metadata": {},
     "output_type": "execute_result"
    }
   ],
   "source": [
    "pg.ttest(p25means_noexcl[p25means_noexcl['expected']==1].hit, \n",
    "         p25means_noexcl[p25means_noexcl['expected']==0].hit, paired=True)"
   ]
  },
  {
   "cell_type": "code",
   "execution_count": 117,
   "id": "3fce53ff",
   "metadata": {},
   "outputs": [
    {
     "data": {
      "text/html": [
       "<div>\n",
       "<style scoped>\n",
       "    .dataframe tbody tr th:only-of-type {\n",
       "        vertical-align: middle;\n",
       "    }\n",
       "\n",
       "    .dataframe tbody tr th {\n",
       "        vertical-align: top;\n",
       "    }\n",
       "\n",
       "    .dataframe thead th {\n",
       "        text-align: right;\n",
       "    }\n",
       "</style>\n",
       "<table border=\"1\" class=\"dataframe\">\n",
       "  <thead>\n",
       "    <tr style=\"text-align: right;\">\n",
       "      <th></th>\n",
       "      <th>T</th>\n",
       "      <th>dof</th>\n",
       "      <th>tail</th>\n",
       "      <th>p-val</th>\n",
       "      <th>CI95%</th>\n",
       "      <th>cohen-d</th>\n",
       "      <th>BF10</th>\n",
       "      <th>power</th>\n",
       "    </tr>\n",
       "  </thead>\n",
       "  <tbody>\n",
       "    <tr>\n",
       "      <th>T-test</th>\n",
       "      <td>-0.294241</td>\n",
       "      <td>92</td>\n",
       "      <td>two-sided</td>\n",
       "      <td>0.769236</td>\n",
       "      <td>[-0.11, 0.08]</td>\n",
       "      <td>0.020914</td>\n",
       "      <td>0.12</td>\n",
       "      <td>0.054576</td>\n",
       "    </tr>\n",
       "  </tbody>\n",
       "</table>\n",
       "</div>"
      ],
      "text/plain": [
       "               T  dof       tail     p-val          CI95%   cohen-d  BF10  \\\n",
       "T-test -0.294241   92  two-sided  0.769236  [-0.11, 0.08]  0.020914  0.12   \n",
       "\n",
       "           power  \n",
       "T-test  0.054576  "
      ]
     },
     "execution_count": 117,
     "metadata": {},
     "output_type": "execute_result"
    }
   ],
   "source": [
    "pg.ttest(p25means_noexcl[p25means_noexcl['expected']==1].dprime, \n",
    "         p25means_noexcl[p25means_noexcl['expected']==0].dprime, paired=True)"
   ]
  },
  {
   "cell_type": "code",
   "execution_count": 118,
   "id": "6acdfe7f",
   "metadata": {},
   "outputs": [
    {
     "data": {
      "text/html": [
       "<div>\n",
       "<style scoped>\n",
       "    .dataframe tbody tr th:only-of-type {\n",
       "        vertical-align: middle;\n",
       "    }\n",
       "\n",
       "    .dataframe tbody tr th {\n",
       "        vertical-align: top;\n",
       "    }\n",
       "\n",
       "    .dataframe thead th {\n",
       "        text-align: right;\n",
       "    }\n",
       "</style>\n",
       "<table border=\"1\" class=\"dataframe\">\n",
       "  <thead>\n",
       "    <tr style=\"text-align: right;\">\n",
       "      <th></th>\n",
       "      <th>T</th>\n",
       "      <th>dof</th>\n",
       "      <th>tail</th>\n",
       "      <th>p-val</th>\n",
       "      <th>CI95%</th>\n",
       "      <th>cohen-d</th>\n",
       "      <th>BF10</th>\n",
       "      <th>power</th>\n",
       "    </tr>\n",
       "  </thead>\n",
       "  <tbody>\n",
       "    <tr>\n",
       "      <th>T-test</th>\n",
       "      <td>3.935266</td>\n",
       "      <td>92</td>\n",
       "      <td>two-sided</td>\n",
       "      <td>0.000161</td>\n",
       "      <td>[0.08, 0.25]</td>\n",
       "      <td>0.519556</td>\n",
       "      <td>121.413</td>\n",
       "      <td>0.998639</td>\n",
       "    </tr>\n",
       "  </tbody>\n",
       "</table>\n",
       "</div>"
      ],
      "text/plain": [
       "               T  dof       tail     p-val         CI95%   cohen-d     BF10  \\\n",
       "T-test  3.935266   92  two-sided  0.000161  [0.08, 0.25]  0.519556  121.413   \n",
       "\n",
       "           power  \n",
       "T-test  0.998639  "
      ]
     },
     "execution_count": 118,
     "metadata": {},
     "output_type": "execute_result"
    }
   ],
   "source": [
    "pg.ttest(p25means_noexcl[p25means_noexcl['expected']==1].criterion, \n",
    "         p25means_noexcl[p25means_noexcl['expected']==0].criterion, paired=True)"
   ]
  },
  {
   "cell_type": "code",
   "execution_count": 119,
   "id": "56320ef0",
   "metadata": {},
   "outputs": [
    {
     "data": {
      "image/png": "[encoded data removed]",
      "text/plain": [
       "<Figure size 700x1000 with 1 Axes>"
      ]
     },
     "metadata": {},
     "output_type": "display_data"
    }
   ],
   "source": [
    "make_pretty_plot(p25means_noexcl, measure='hit', excl=False, saveimg=True)"
   ]
  },
  {
   "cell_type": "code",
   "execution_count": 120,
   "id": "9024c53a",
   "metadata": {},
   "outputs": [
    {
     "data": {
      "image/png": "[encoded data removed]",
      "text/plain": [
       "<Figure size 700x1000 with 1 Axes>"
      ]
     },
     "metadata": {},
     "output_type": "display_data"
    }
   ],
   "source": [
    "make_pretty_plot(p25means_noexcl, measure='dprime', excl=False, saveimg=True)"
   ]
  },
  {
   "cell_type": "code",
   "execution_count": 121,
   "id": "aaacc8e6",
   "metadata": {},
   "outputs": [
    {
     "data": {
      "image/png": "[encoded data removed]",
      "text/plain": [
       "<Figure size 700x1000 with 1 Axes>"
      ]
     },
     "metadata": {},
     "output_type": "display_data"
    }
   ],
   "source": [
    "make_pretty_plot(p25means_noexcl, measure='criterion', excl=False, saveimg=True)"
   ]
  },
  {
   "attachments": {},
   "cell_type": "markdown",
   "id": "c4c6dfee",
   "metadata": {},
   "source": [
    "### Sensitivity and bias"
   ]
  },
  {
   "attachments": {},
   "cell_type": "markdown",
   "id": "d5be8959",
   "metadata": {},
   "source": [
    "Experiment 1"
   ]
  },
  {
   "cell_type": "code",
   "execution_count": null,
   "id": "d5f0e4c5",
   "metadata": {},
   "outputs": [],
   "source": [
    "# Mean accuracy for congruent and incongruent trials\n",
    "p75means.groupby(['expected'])[['dprime', 'criterion']].agg(['mean', 'sem'])"
   ]
  },
  {
   "cell_type": "code",
   "execution_count": null,
   "id": "600e398a",
   "metadata": {},
   "outputs": [],
   "source": [
    "pg.ttest(p75means[p75means['expected']==1].hit, \n",
    "         p75means[p75means['expected']==0].hit, paired=True)"
   ]
  },
  {
   "cell_type": "code",
   "execution_count": null,
   "id": "0dc8ff91",
   "metadata": {},
   "outputs": [],
   "source": [
    "pg.ttest(p75means[p75means['expected']==1].dprime, \n",
    "         p75means[p75means['expected']==0].dprime, paired=True)"
   ]
  },
  {
   "cell_type": "code",
   "execution_count": null,
   "id": "d7ab65e8",
   "metadata": {},
   "outputs": [],
   "source": [
    "pg.ttest(p75means[p75means['expected']==1].criterion, \n",
    "         p75means[p75means['expected']==0].criterion, paired=True)"
   ]
  },
  {
   "cell_type": "code",
   "execution_count": null,
   "id": "1be1b7e4",
   "metadata": {},
   "outputs": [],
   "source": [
    "make_pretty_plot(p75means, measure='dprime')"
   ]
  },
  {
   "cell_type": "code",
   "execution_count": null,
   "id": "eceaa894",
   "metadata": {},
   "outputs": [],
   "source": [
    "make_pretty_plot(p75means, measure='criterion')"
   ]
  },
  {
   "attachments": {},
   "cell_type": "markdown",
   "id": "1c05ee85",
   "metadata": {},
   "source": [
    "Experiment 2"
   ]
  },
  {
   "cell_type": "code",
   "execution_count": null,
   "id": "e8030b55",
   "metadata": {},
   "outputs": [],
   "source": [
    "# Mean accuracy for congruent and incongruent trials\n",
    "p50means.groupby(['expected'])[['dprime', 'criterion']].agg(['mean', 'sem'])"
   ]
  },
  {
   "cell_type": "code",
   "execution_count": null,
   "id": "5e790490",
   "metadata": {},
   "outputs": [],
   "source": [
    "pg.ttest(p50means[p50means['expected']==1].dprime, \n",
    "         p50means[p50means['expected']==0].dprime, paired=True)"
   ]
  },
  {
   "cell_type": "code",
   "execution_count": null,
   "id": "b76d2d61",
   "metadata": {},
   "outputs": [],
   "source": [
    "pg.ttest(p50means[p50means['expected']==1].criterion, \n",
    "         p50means[p50means['expected']==0].criterion, paired=True)"
   ]
  },
  {
   "cell_type": "code",
   "execution_count": null,
   "id": "c13e0dbc",
   "metadata": {},
   "outputs": [],
   "source": [
    "make_pretty_plot(p50means, measure='dprime')"
   ]
  },
  {
   "cell_type": "code",
   "execution_count": null,
   "id": "cae03cc9",
   "metadata": {},
   "outputs": [],
   "source": [
    "make_pretty_plot(p50means, measure='criterion')"
   ]
  },
  {
   "attachments": {},
   "cell_type": "markdown",
   "id": "ecdad4ac",
   "metadata": {},
   "source": [
    "Experiment 3"
   ]
  },
  {
   "cell_type": "code",
   "execution_count": null,
   "id": "13f2d00d",
   "metadata": {},
   "outputs": [],
   "source": [
    "# Mean accuracy for congruent and incongruent trials\n",
    "p25means.groupby(['expected'])[['dprime', 'criterion']].agg(['mean', 'sem'])"
   ]
  },
  {
   "cell_type": "code",
   "execution_count": null,
   "id": "97da07bc",
   "metadata": {},
   "outputs": [],
   "source": [
    "pg.ttest(p25means[p25means['expected']==1].dprime, \n",
    "         p25means[p25means['expected']==0].dprime, paired=True)"
   ]
  },
  {
   "cell_type": "code",
   "execution_count": null,
   "id": "ecfc4743",
   "metadata": {},
   "outputs": [],
   "source": [
    "pg.ttest(p25means[p25means['expected']==1].criterion, \n",
    "         p25means[p25means['expected']==0].criterion, paired=True)"
   ]
  },
  {
   "cell_type": "code",
   "execution_count": null,
   "id": "b475db72",
   "metadata": {},
   "outputs": [],
   "source": [
    "make_pretty_plot(p25means, measure='dprime')"
   ]
  },
  {
   "cell_type": "code",
   "execution_count": null,
   "id": "0cbfa753",
   "metadata": {},
   "outputs": [],
   "source": [
    "make_pretty_plot(p25means, measure='criterion')"
   ]
  },
  {
   "attachments": {},
   "cell_type": "markdown",
   "id": "51d75c71-f85a-4dde-a6b1-80a37cba3aff",
   "metadata": {
    "pycharm": {
     "name": "#%% md\n"
    }
   },
   "source": [
    "### Final survey"
   ]
  },
  {
   "cell_type": "code",
   "execution_count": 123,
   "id": "7ae51369-d6ca-4130-9555-b7e9acaaf123",
   "metadata": {
    "pycharm": {
     "name": "#%%\n"
    }
   },
   "outputs": [],
   "source": [
    "allsurveys = get_surveys(allsubjdata)"
   ]
  },
  {
   "cell_type": "code",
   "execution_count": 124,
   "id": "4dbed70a",
   "metadata": {},
   "outputs": [
    {
     "data": {
      "text/plain": [
       "151"
      ]
     },
     "execution_count": 124,
     "metadata": {},
     "output_type": "execute_result"
    }
   ],
   "source": [
    "allsurveys.subject.nunique()"
   ]
  },
  {
   "cell_type": "code",
   "execution_count": 125,
   "id": "814e110a-abce-460f-8bc9-1554a18a4bf0",
   "metadata": {
    "pycharm": {
     "name": "#%%\n"
    }
   },
   "outputs": [
    {
     "data": {
      "text/html": [
       "<div>\n",
       "<style scoped>\n",
       "    .dataframe tbody tr th:only-of-type {\n",
       "        vertical-align: middle;\n",
       "    }\n",
       "\n",
       "    .dataframe tbody tr th {\n",
       "        vertical-align: top;\n",
       "    }\n",
       "\n",
       "    .dataframe thead tr th {\n",
       "        text-align: left;\n",
       "    }\n",
       "\n",
       "    .dataframe thead tr:last-of-type th {\n",
       "        text-align: right;\n",
       "    }\n",
       "</style>\n",
       "<table border=\"1\" class=\"dataframe\">\n",
       "  <thead>\n",
       "    <tr>\n",
       "      <th></th>\n",
       "      <th colspan=\"2\" halign=\"left\">sequence_attention</th>\n",
       "      <th colspan=\"2\" halign=\"left\">object_expect</th>\n",
       "      <th colspan=\"2\" halign=\"left\">percent_expected</th>\n",
       "    </tr>\n",
       "    <tr>\n",
       "      <th></th>\n",
       "      <th>mean</th>\n",
       "      <th>sem</th>\n",
       "      <th>mean</th>\n",
       "      <th>sem</th>\n",
       "      <th>mean</th>\n",
       "      <th>sem</th>\n",
       "    </tr>\n",
       "    <tr>\n",
       "      <th>p_exp</th>\n",
       "      <th></th>\n",
       "      <th></th>\n",
       "      <th></th>\n",
       "      <th></th>\n",
       "      <th></th>\n",
       "      <th></th>\n",
       "    </tr>\n",
       "  </thead>\n",
       "  <tbody>\n",
       "    <tr>\n",
       "      <th>0.25</th>\n",
       "      <td>4.019608</td>\n",
       "      <td>0.230073</td>\n",
       "      <td>3.313725</td>\n",
       "      <td>0.238443</td>\n",
       "      <td>55.843137</td>\n",
       "      <td>2.936367</td>\n",
       "    </tr>\n",
       "    <tr>\n",
       "      <th>0.50</th>\n",
       "      <td>4.300000</td>\n",
       "      <td>0.208493</td>\n",
       "      <td>3.760000</td>\n",
       "      <td>0.216767</td>\n",
       "      <td>54.500000</td>\n",
       "      <td>2.393571</td>\n",
       "    </tr>\n",
       "    <tr>\n",
       "      <th>0.75</th>\n",
       "      <td>4.420000</td>\n",
       "      <td>0.189715</td>\n",
       "      <td>3.530612</td>\n",
       "      <td>0.244153</td>\n",
       "      <td>56.960000</td>\n",
       "      <td>2.446982</td>\n",
       "    </tr>\n",
       "  </tbody>\n",
       "</table>\n",
       "</div>"
      ],
      "text/plain": [
       "      sequence_attention           object_expect           percent_expected  \\\n",
       "                    mean       sem          mean       sem             mean   \n",
       "p_exp                                                                         \n",
       "0.25            4.019608  0.230073      3.313725  0.238443        55.843137   \n",
       "0.50            4.300000  0.208493      3.760000  0.216767        54.500000   \n",
       "0.75            4.420000  0.189715      3.530612  0.244153        56.960000   \n",
       "\n",
       "                 \n",
       "            sem  \n",
       "p_exp            \n",
       "0.25   2.936367  \n",
       "0.50   2.393571  \n",
       "0.75   2.446982  "
      ]
     },
     "execution_count": 125,
     "metadata": {},
     "output_type": "execute_result"
    }
   ],
   "source": [
    "allsurveys.groupby(['p_exp'])[['sequence_attention', \n",
    "                               'object_expect',\n",
    "                               'percent_expected']].agg(['mean', 'sem'])"
   ]
  },
  {
   "cell_type": "code",
   "execution_count": null,
   "id": "50e03cd8-fea7-435e-8cc9-6334084d7b96",
   "metadata": {
    "pycharm": {
     "name": "#%%\n"
    }
   },
   "outputs": [],
   "source": [
    "aov = pg.welch_anova(dv='sequence_attention', between='p_exp', data=allsurveys)\n",
    "\n",
    "pg.print_table(aov)"
   ]
  },
  {
   "cell_type": "code",
   "execution_count": null,
   "id": "761ed4fa-374b-405b-aa61-e799b0bd2e5d",
   "metadata": {
    "pycharm": {
     "name": "#%%\n"
    }
   },
   "outputs": [],
   "source": [
    "aov = pg.welch_anova(dv='object_expect', between='p_exp', data=allsurveys)\n",
    "\n",
    "pg.print_table(aov)"
   ]
  },
  {
   "cell_type": "code",
   "execution_count": null,
   "id": "823a98cc-cd64-4ca1-96e3-613f678cae87",
   "metadata": {
    "pycharm": {
     "name": "#%%\n"
    }
   },
   "outputs": [],
   "source": [
    "aov = pg.welch_anova(dv='percent_expected', between='p_exp', data=allsurveys)\n",
    "\n",
    "pg.print_table(aov)"
   ]
  },
  {
   "cell_type": "code",
   "execution_count": 126,
   "id": "55b03130-749e-4f41-a472-1d08bac5248a",
   "metadata": {
    "pycharm": {
     "name": "#%%\n"
    }
   },
   "outputs": [
    {
     "name": "stdout",
     "output_type": "stream",
     "text": [
      "==================\n",
      "Overall\n",
      "------------------\n",
      "Accuracy-sequence attention correlation:\n",
      "r = 0.03999653961215315 - p = 0.625835517455807 - BF01 = 8.695652173913043 \n",
      "\n",
      "Accuracy-object prediction correlation:\n",
      "r = -0.09091310134893812 - p = 0.26853958145262513 - BF01 = 5.347593582887701 \n",
      "\n",
      "Accuracy-probability estimate correlation:\n",
      "r = -0.021467466235181566 - p = 0.7936030994246064 - BF01 = 9.523809523809524 \n",
      "\n",
      "==================\n",
      "P(Exp) = 0.75\n",
      "------------------\n",
      "Accuracy-sequence attention correlation:\n",
      "r = 0.17373497492606538 - p = 0.22757793057253117 - BF01 = 2.793296089385475 \n",
      "\n",
      "D prime-sequence attention correlation:\n",
      "r = 0.12686976824021287 - p = 0.37996019557266947 - BF01 = 3.8910505836575875 \n",
      "\n",
      "Criterion-sequence attention correlation:\n",
      "r = 0.07114819457012922 - p = 0.6234320771148033 - BF01 = 5.05050505050505 \n",
      "\n",
      "-------------------------------\n",
      "Accuracy-object prediction correlation:\n",
      "r = -0.2926399671352069 - p = 0.04129987936638242 - BF01 = 0.7429420505200593 \n",
      "\n",
      "D prime-object prediction correlation:\n",
      "r = -0.3294073314337379 - p = 0.020819306118888783 - BF01 = 0.41946308724832215 \n",
      "\n",
      "Criterion-object prediction correlation:\n",
      "r = 0.03968156688594145 - p = 0.7866165198632077 - BF01 = 5.405405405405405 \n",
      "\n",
      "-------------------------------\n",
      "Accuracy-probability estimate correlation:\n",
      "r = 0.0307687142842297 - p = 0.8320173906000471 - BF01 = 5.555555555555555 \n",
      "\n",
      "D prime-probability correlation:\n",
      "r = -0.030311933601862774 - p = 0.8344759769470537 - BF01 = 5.555555555555555 \n",
      "\n",
      "Criterion-probability correlation:\n",
      "r = -0.057685126711171146 - p = 0.6906963579692246 - BF01 = 5.2631578947368425 \n",
      "\n",
      "==================\n",
      "P(Exp) = 0.5\n",
      "------------------\n",
      "Accuracy-sequence attention correlation:\n",
      "r = 0.030309501890114637 - p = 0.8344890696612188 - BF01 = 5.555555555555555 \n",
      "\n",
      "D prime-sequence attention correlation:\n",
      "r = 0.05465085057920114 - p = 0.7062125287957858 - BF01 = 5.291005291005291 \n",
      "\n",
      "Criterion-sequence attention correlation:\n",
      "r = 0.04548281687169375 - p = 0.7537945122447063 - BF01 = 5.405405405405405 \n",
      "\n",
      "-------------------------------\n",
      "Accuracy-object prediction correlation:\n",
      "r = -0.060980273924123654 - p = 0.6739877663874463 - BF01 = 5.208333333333333 \n",
      "\n",
      "D prime-object prediction correlation:\n",
      "r = 0.025030270058098162 - p = 0.863012163720616 - BF01 = 5.58659217877095 \n",
      "\n",
      "Criterion-object prediction correlation:\n",
      "r = 0.17135845943173 - p = 0.23409924174707028 - BF01 = 2.8490028490028494 \n",
      "\n",
      "-------------------------------\n",
      "Accuracy-probability estimate correlation:\n",
      "r = -0.11470391017235149 - p = 0.4276684714794297 - BF01 = 4.184100418410042 \n",
      "\n",
      "D prime-probability correlation:\n",
      "r = -0.12824343132542274 - p = 0.3747803383993739 - BF01 = 3.861003861003861 \n",
      "\n",
      "Criterion-probability correlation:\n",
      "r = 0.1023809427747764 - p = 0.47925928015679037 - BF01 = 4.444444444444445 \n",
      "\n",
      "==================\n",
      "P(Exp) = 0.25\n",
      "------------------\n",
      "Accuracy-sequence attention correlation:\n",
      "r = -0.09212891060539743 - p = 0.5202300770871773 - BF01 = 4.672897196261682 \n",
      "\n",
      "D prime-sequence attention correlation:\n",
      "r = -0.1058089191982132 - p = 0.4599239502004876 - BF01 = 4.385964912280701 \n",
      "\n",
      "Criterion-sequence attention correlation:\n",
      "r = 0.0466403625446879 - p = 0.7451823372729299 - BF01 = 5.434782608695652 \n",
      "\n",
      "-------------------------------\n",
      "Accuracy-object prediction correlation:\n",
      "r = 0.08933991898226358 - p = 0.532991382204435 - BF01 = 4.739336492890995 \n",
      "\n",
      "D prime-object prediction correlation:\n",
      "r = 0.10018782961826182 - p = 0.4842336349073097 - BF01 = 4.504504504504505 \n",
      "\n",
      "Criterion-object prediction correlation:\n",
      "r = -0.18573593671380567 - p = 0.19191851246188726 - BF01 = 2.5 \n",
      "\n",
      "-------------------------------\n",
      "Accuracy-probability estimate correlation:\n",
      "r = -0.01655359119699881 - p = 0.9082125714837478 - BF01 = 5.6818181818181825 \n",
      "\n",
      "D prime-probability correlation:\n",
      "r = 0.04318993169363262 - p = 0.7634665663778847 - BF01 = 5.46448087431694 \n",
      "\n",
      "Criterion-probability correlation:\n",
      "r = -0.12487402168935402 - p = 0.3826112072189255 - BF01 = 3.952569169960474 \n",
      "\n"
     ]
    }
   ],
   "source": [
    "print('==================')\n",
    "print('Overall')\n",
    "print('------------------')\n",
    "accdiffs = allmeans[allmeans['expected']==1].hit.values - \\\n",
    "           allmeans[allmeans['expected']==0].hit.values\n",
    "critdiffs = allmeans[allmeans['expected']==1].criterion.values - \\\n",
    "            allmeans[allmeans['expected']==0].criterion.values\n",
    "dprdiffs = allmeans[allmeans['expected']==1].dprime.values - \\\n",
    "           allmeans[allmeans['expected']==0].dprime.values\n",
    "print('Accuracy-sequence attention correlation:')\n",
    "stats = pg.corr(allsurveys.sequence_attention, accdiffs, method='pearson')\n",
    "print('r =', stats['r'][0], '- p =', stats['p-val'][0], '- BF01 =', 1/float(stats['BF10'][0]), '\\n')\n",
    "\n",
    "print('Accuracy-object prediction correlation:')\n",
    "stats = pg.corr(allsurveys.object_expect, accdiffs, method='pearson')\n",
    "print('r =', stats['r'][0], '- p =', stats['p-val'][0], '- BF01 =', 1/float(stats['BF10'][0]), '\\n')\n",
    "\n",
    "print('Accuracy-probability estimate correlation:')\n",
    "stats = pg.corr(allsurveys.percent_expected, accdiffs, method='pearson')\n",
    "print('r =', stats['r'][0], '- p =', stats['p-val'][0], '- BF01 =', 1/float(stats['BF10'][0]), '\\n')\n",
    "\n",
    "for pe in [0.75, 0.5, 0.25]:\n",
    "    print('==================')\n",
    "    print('P(Exp) =', pe)\n",
    "    print('------------------')\n",
    "    thispexp = allmeans[allmeans['p_exp']==pe]\n",
    "    critdiffs = thispexp[thispexp['expected']==1].criterion.values - \\\n",
    "                thispexp[thispexp['expected']==0].criterion.values\n",
    "    dprdiffs = thispexp[thispexp['expected']==1].dprime.values - \\\n",
    "               thispexp[thispexp['expected']==0].dprime.values\n",
    "    accdiffs = thispexp[thispexp['expected']==1].hit.values - \\\n",
    "               thispexp[thispexp['expected']==0].hit.values\n",
    "    print('Accuracy-sequence attention correlation:')\n",
    "    stats = pg.corr(allsurveys[allsurveys['p_exp']==pe].sequence_attention, accdiffs, method='pearson')\n",
    "    print('r =', stats['r'][0], '- p =', stats['p-val'][0], '- BF01 =', 1/float(stats['BF10'][0]), '\\n')\n",
    "    print('D prime-sequence attention correlation:')\n",
    "    stats = pg.corr(allsurveys[allsurveys['p_exp']==pe].sequence_attention, dprdiffs, method='pearson')\n",
    "    print('r =', stats['r'][0], '- p =', stats['p-val'][0], '- BF01 =', 1/float(stats['BF10'][0]), '\\n')\n",
    "    print('Criterion-sequence attention correlation:')\n",
    "    stats = pg.corr(allsurveys[allsurveys['p_exp']==pe].sequence_attention, critdiffs, method='pearson')\n",
    "    print('r =', stats['r'][0], '- p =', stats['p-val'][0], '- BF01 =', 1/float(stats['BF10'][0]), '\\n')\n",
    "    \n",
    "    print('-------------------------------')\n",
    "    print('Accuracy-object prediction correlation:')\n",
    "    stats = pg.corr(allsurveys[allsurveys['p_exp']==pe].object_expect, accdiffs, method='pearson')\n",
    "    print('r =', stats['r'][0], '- p =', stats['p-val'][0], '- BF01 =', 1/float(stats['BF10'][0]), '\\n')\n",
    "    print('D prime-object prediction correlation:')\n",
    "    stats = pg.corr(allsurveys[allsurveys['p_exp']==pe].object_expect, dprdiffs, method='pearson')\n",
    "    print('r =', stats['r'][0], '- p =', stats['p-val'][0], '- BF01 =', 1/float(stats['BF10'][0]), '\\n')\n",
    "    print('Criterion-object prediction correlation:')\n",
    "    stats = pg.corr(allsurveys[allsurveys['p_exp']==pe].object_expect, critdiffs, method='pearson')\n",
    "    print('r =', stats['r'][0], '- p =', stats['p-val'][0], '- BF01 =', 1/float(stats['BF10'][0]), '\\n')\n",
    "    \n",
    "    print('-------------------------------')\n",
    "    print('Accuracy-probability estimate correlation:')\n",
    "    stats = pg.corr(allsurveys[allsurveys['p_exp']==pe].percent_expected, accdiffs, method='pearson')\n",
    "    print('r =', stats['r'][0], '- p =', stats['p-val'][0], '- BF01 =', 1/float(stats['BF10'][0]), '\\n')\n",
    "    print('D prime-probability correlation:')\n",
    "    stats = pg.corr(allsurveys[allsurveys['p_exp']==pe].percent_expected, dprdiffs, method='pearson')\n",
    "    print('r =', stats['r'][0], '- p =', stats['p-val'][0], '- BF01 =', 1/float(stats['BF10'][0]), '\\n')\n",
    "    print('Criterion-probability correlation:')\n",
    "    stats = pg.corr(allsurveys[allsurveys['p_exp']==pe].percent_expected, critdiffs, method='pearson')\n",
    "    print('r =', stats['r'][0], '- p =', stats['p-val'][0], '- BF01 =', 1/float(stats['BF10'][0]), '\\n')"
   ]
  },
  {
   "cell_type": "code",
   "execution_count": null,
   "id": "0b61b467",
   "metadata": {},
   "outputs": [],
   "source": []
  }
 ],
 "metadata": {
  "kernelspec": {
   "display_name": "scenecontext",
   "language": "python",
   "name": "python3"
  },
  "language_info": {
   "codemirror_mode": {
    "name": "ipython",
    "version": 3
   },
   "file_extension": ".py",
   "mimetype": "text/x-python",
   "name": "python",
   "nbconvert_exporter": "python",
   "pygments_lexer": "ipython3",
   "version": "3.8.20"
  }
 },
 "nbformat": 4,
 "nbformat_minor": 5
}
